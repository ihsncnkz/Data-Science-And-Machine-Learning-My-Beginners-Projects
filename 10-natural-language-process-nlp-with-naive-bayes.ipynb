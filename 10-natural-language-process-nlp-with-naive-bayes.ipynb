{
 "cells": [
  {
   "cell_type": "markdown",
   "id": "0376f762",
   "metadata": {
    "papermill": {
     "duration": 0.010462,
     "end_time": "2022-08-10T11:19:34.341350",
     "exception": false,
     "start_time": "2022-08-10T11:19:34.330888",
     "status": "completed"
    },
    "tags": []
   },
   "source": [
    "# Description\n",
    "Hello, I'm ihsan,<br>\n",
    "I continue to learn Data Science and Machine Learning. This notebook is my tenth notebook in way of improving myself. I will share my previous works below the description. In this notebook, I will do Neuro Linguistic Programming(NLP) to the dataset and Endly I will apply the Naive Bayes Classification. When I will apply step by step I will explain the step. In this learning path, I would be very happy if you would examine my notebook and help me with how to improve my notebook or what I should do in this development path. I wish you a good day and good work.<br>\n",
    "\n",
    "[For a detailed description of the dataset, please click here](https://www.kaggle.com/datasets/samdeeplearning/deepnlp)\n",
    "\n",
    "Other my notebook:\n",
    "- [GPU Search](https://www.kaggle.com/code/ihsncnkz/gpu-search)\n",
    "- [EDA And Linear Regression](https://www.kaggle.com/code/ihsncnkz/eda-and-linear-regression)\n",
    "- [Regression Models](https://www.kaggle.com/code/ihsncnkz/regression-models)\n",
    "- [Logistic Regression](https://www.kaggle.com/code/ihsncnkz/logistic-regression)\n",
    "- [Classification With K-Nearest Neighbors(KNN)](https://www.kaggle.com/code/ihsncnkz/classification-with-k-nearest-neighbors-knn)\n",
    "- [Classification With Support Vector Machine(SVM)](https://www.kaggle.com/code/ihsncnkz/classification-with-support-vector-machine-svm)\n",
    "- [Classification With Naive Bayes Classification](https://www.kaggle.com/code/ihsncnkz/classification-with-naive-bayes-classification)\n",
    "- [Decision Tree And Random Forest Classifier Models](https://www.kaggle.com/code/ihsncnkz/decision-tree-and-random-forest-classifier-models)\n",
    "- [K-Means And Hierarchical Clustering With 3D Plotly](https://www.kaggle.com/code/ihsncnkz/k-means-and-hierarchical-clustering-with-3d-plotly)"
   ]
  },
  {
   "cell_type": "markdown",
   "id": "a9bfa9c8",
   "metadata": {
    "papermill": {
     "duration": 0.00864,
     "end_time": "2022-08-10T11:19:34.359281",
     "exception": false,
     "start_time": "2022-08-10T11:19:34.350641",
     "status": "completed"
    },
    "tags": []
   },
   "source": [
    "# Contents\n",
    "- [Data Review and Data Preparing](#1)\n",
    "- [Natural Language Process (NLP)](#2)\n",
    "    - [Regular expression operations](#nlp1)\n",
    "    - [NLTK](#nlp2)\n",
    "    - [Lemmatazation](#nlp3)\n",
    "    - [Words](#nlp4)\n",
    "    - [Bag of Words ](#nlp5)\n",
    "    - [Naive Bayes Classification](#nlp6)\n",
    "- [CONCLUSION](#3)"
   ]
  },
  {
   "cell_type": "code",
   "execution_count": 1,
   "id": "76b6ca97",
   "metadata": {
    "_cell_guid": "b1076dfc-b9ad-4769-8c92-a6c4dae69d19",
    "_uuid": "8f2839f25d086af736a60e9eeb907d3b93b6e0e5",
    "execution": {
     "iopub.execute_input": "2022-08-10T11:19:34.380771Z",
     "iopub.status.busy": "2022-08-10T11:19:34.379788Z",
     "iopub.status.idle": "2022-08-10T11:19:35.567492Z",
     "shell.execute_reply": "2022-08-10T11:19:35.566158Z"
    },
    "papermill": {
     "duration": 1.202068,
     "end_time": "2022-08-10T11:19:35.570443",
     "exception": false,
     "start_time": "2022-08-10T11:19:34.368375",
     "status": "completed"
    },
    "tags": []
   },
   "outputs": [
    {
     "name": "stdout",
     "output_type": "stream",
     "text": [
      "/kaggle/input/deepnlp/Sheet_1.csv\n",
      "/kaggle/input/deepnlp/Sheet_2.csv\n"
     ]
    }
   ],
   "source": [
    "# This Python 3 environment comes with many helpful analytics libraries installed\n",
    "# It is defined by the kaggle/python Docker image: https://github.com/kaggle/docker-python\n",
    "# For example, here's several helpful packages to load\n",
    "\n",
    "import numpy as np # linear algebra\n",
    "import pandas as pd # data processing, CSV file I/O (e.g. pd.read_csv)\n",
    "import matplotlib.pyplot as plt\n",
    "import seaborn as sns\n",
    "\n",
    "# Input data files are available in the read-only \"../input/\" directory\n",
    "# For example, running this (by clicking run or pressing Shift+Enter) will list all files under the input directory\n",
    "\n",
    "import os\n",
    "for dirname, _, filenames in os.walk('/kaggle/input'):\n",
    "    for filename in filenames:\n",
    "        print(os.path.join(dirname, filename))\n",
    "\n",
    "# You can write up to 20GB to the current directory (/kaggle/working/) that gets preserved as output when you create a version using \"Save & Run All\" \n",
    "# You can also write temporary files to /kaggle/temp/, but they won't be saved outside of the current session"
   ]
  },
  {
   "cell_type": "markdown",
   "id": "fe273c06",
   "metadata": {
    "papermill": {
     "duration": 0.009103,
     "end_time": "2022-08-10T11:19:35.588870",
     "exception": false,
     "start_time": "2022-08-10T11:19:35.579767",
     "status": "completed"
    },
    "tags": []
   },
   "source": [
    "# Data Review and Data Preparing <a id=\"1\"></a>\n",
    "In this chapter, I review the dataset and I will prepare the data set for the Machine Learning model."
   ]
  },
  {
   "cell_type": "markdown",
   "id": "31dd829f",
   "metadata": {
    "papermill": {
     "duration": 0.008947,
     "end_time": "2022-08-10T11:19:35.607087",
     "exception": false,
     "start_time": "2022-08-10T11:19:35.598140",
     "status": "completed"
    },
    "tags": []
   },
   "source": [
    "I read the dataset with the pandas library. I will see the initial state of the data set."
   ]
  },
  {
   "cell_type": "code",
   "execution_count": 2,
   "id": "9dc69724",
   "metadata": {
    "execution": {
     "iopub.execute_input": "2022-08-10T11:19:35.627748Z",
     "iopub.status.busy": "2022-08-10T11:19:35.627050Z",
     "iopub.status.idle": "2022-08-10T11:19:35.687241Z",
     "shell.execute_reply": "2022-08-10T11:19:35.685767Z"
    },
    "papermill": {
     "duration": 0.073535,
     "end_time": "2022-08-10T11:19:35.689756",
     "exception": false,
     "start_time": "2022-08-10T11:19:35.616221",
     "status": "completed"
    },
    "tags": []
   },
   "outputs": [
    {
     "data": {
      "text/html": [
       "<div>\n",
       "<style scoped>\n",
       "    .dataframe tbody tr th:only-of-type {\n",
       "        vertical-align: middle;\n",
       "    }\n",
       "\n",
       "    .dataframe tbody tr th {\n",
       "        vertical-align: top;\n",
       "    }\n",
       "\n",
       "    .dataframe thead th {\n",
       "        text-align: right;\n",
       "    }\n",
       "</style>\n",
       "<table border=\"1\" class=\"dataframe\">\n",
       "  <thead>\n",
       "    <tr style=\"text-align: right;\">\n",
       "      <th></th>\n",
       "      <th>response_id</th>\n",
       "      <th>class</th>\n",
       "      <th>response_text</th>\n",
       "      <th>Unnamed: 3</th>\n",
       "      <th>Unnamed: 4</th>\n",
       "      <th>Unnamed: 5</th>\n",
       "      <th>Unnamed: 6</th>\n",
       "      <th>Unnamed: 7</th>\n",
       "    </tr>\n",
       "  </thead>\n",
       "  <tbody>\n",
       "    <tr>\n",
       "      <th>0</th>\n",
       "      <td>response_1</td>\n",
       "      <td>not_flagged</td>\n",
       "      <td>I try and avoid this sort of conflict</td>\n",
       "      <td>NaN</td>\n",
       "      <td>NaN</td>\n",
       "      <td>NaN</td>\n",
       "      <td>NaN</td>\n",
       "      <td>NaN</td>\n",
       "    </tr>\n",
       "    <tr>\n",
       "      <th>1</th>\n",
       "      <td>response_2</td>\n",
       "      <td>flagged</td>\n",
       "      <td>Had a friend open up to me about his mental ad...</td>\n",
       "      <td>NaN</td>\n",
       "      <td>NaN</td>\n",
       "      <td>NaN</td>\n",
       "      <td>NaN</td>\n",
       "      <td>NaN</td>\n",
       "    </tr>\n",
       "    <tr>\n",
       "      <th>2</th>\n",
       "      <td>response_3</td>\n",
       "      <td>flagged</td>\n",
       "      <td>I saved a girl from suicide once. She was goin...</td>\n",
       "      <td>NaN</td>\n",
       "      <td>NaN</td>\n",
       "      <td>NaN</td>\n",
       "      <td>NaN</td>\n",
       "      <td>NaN</td>\n",
       "    </tr>\n",
       "    <tr>\n",
       "      <th>3</th>\n",
       "      <td>response_4</td>\n",
       "      <td>not_flagged</td>\n",
       "      <td>i cant think of one really...i think i may hav...</td>\n",
       "      <td>NaN</td>\n",
       "      <td>NaN</td>\n",
       "      <td>NaN</td>\n",
       "      <td>NaN</td>\n",
       "      <td>NaN</td>\n",
       "    </tr>\n",
       "    <tr>\n",
       "      <th>4</th>\n",
       "      <td>response_5</td>\n",
       "      <td>not_flagged</td>\n",
       "      <td>Only really one friend who doesn't fit into th...</td>\n",
       "      <td></td>\n",
       "      <td>NaN</td>\n",
       "      <td>NaN</td>\n",
       "      <td>NaN</td>\n",
       "      <td>NaN</td>\n",
       "    </tr>\n",
       "    <tr>\n",
       "      <th>...</th>\n",
       "      <td>...</td>\n",
       "      <td>...</td>\n",
       "      <td>...</td>\n",
       "      <td>...</td>\n",
       "      <td>...</td>\n",
       "      <td>...</td>\n",
       "      <td>...</td>\n",
       "      <td>...</td>\n",
       "    </tr>\n",
       "    <tr>\n",
       "      <th>75</th>\n",
       "      <td>response_76</td>\n",
       "      <td>not_flagged</td>\n",
       "      <td>Now that I've been through it, although i'm no...</td>\n",
       "      <td>NaN</td>\n",
       "      <td>NaN</td>\n",
       "      <td>NaN</td>\n",
       "      <td>NaN</td>\n",
       "      <td>NaN</td>\n",
       "    </tr>\n",
       "    <tr>\n",
       "      <th>76</th>\n",
       "      <td>response_77</td>\n",
       "      <td>flagged</td>\n",
       "      <td>when my best friends mom past away from od'ing...</td>\n",
       "      <td>NaN</td>\n",
       "      <td>NaN</td>\n",
       "      <td>NaN</td>\n",
       "      <td>NaN</td>\n",
       "      <td>NaN</td>\n",
       "    </tr>\n",
       "    <tr>\n",
       "      <th>77</th>\n",
       "      <td>response_78</td>\n",
       "      <td>not_flagged</td>\n",
       "      <td>As a camp counselor I provide stability in kid...</td>\n",
       "      <td>NaN</td>\n",
       "      <td>NaN</td>\n",
       "      <td>NaN</td>\n",
       "      <td>NaN</td>\n",
       "      <td>NaN</td>\n",
       "    </tr>\n",
       "    <tr>\n",
       "      <th>78</th>\n",
       "      <td>response_79</td>\n",
       "      <td>flagged</td>\n",
       "      <td>My now girlfriend used to have serious addicti...</td>\n",
       "      <td>NaN</td>\n",
       "      <td>NaN</td>\n",
       "      <td>NaN</td>\n",
       "      <td>NaN</td>\n",
       "      <td>NaN</td>\n",
       "    </tr>\n",
       "    <tr>\n",
       "      <th>79</th>\n",
       "      <td>response_80</td>\n",
       "      <td>not_flagged</td>\n",
       "      <td>The one person I ever talked to it was because...</td>\n",
       "      <td>NaN</td>\n",
       "      <td>NaN</td>\n",
       "      <td>NaN</td>\n",
       "      <td>NaN</td>\n",
       "      <td>NaN</td>\n",
       "    </tr>\n",
       "  </tbody>\n",
       "</table>\n",
       "<p>80 rows × 8 columns</p>\n",
       "</div>"
      ],
      "text/plain": [
       "    response_id        class  \\\n",
       "0    response_1  not_flagged   \n",
       "1    response_2      flagged   \n",
       "2    response_3      flagged   \n",
       "3    response_4  not_flagged   \n",
       "4    response_5  not_flagged   \n",
       "..          ...          ...   \n",
       "75  response_76  not_flagged   \n",
       "76  response_77      flagged   \n",
       "77  response_78  not_flagged   \n",
       "78  response_79      flagged   \n",
       "79  response_80  not_flagged   \n",
       "\n",
       "                                        response_text Unnamed: 3  Unnamed: 4  \\\n",
       "0               I try and avoid this sort of conflict        NaN         NaN   \n",
       "1   Had a friend open up to me about his mental ad...        NaN         NaN   \n",
       "2   I saved a girl from suicide once. She was goin...        NaN         NaN   \n",
       "3   i cant think of one really...i think i may hav...        NaN         NaN   \n",
       "4   Only really one friend who doesn't fit into th...                    NaN   \n",
       "..                                                ...        ...         ...   \n",
       "75  Now that I've been through it, although i'm no...        NaN         NaN   \n",
       "76  when my best friends mom past away from od'ing...        NaN         NaN   \n",
       "77  As a camp counselor I provide stability in kid...        NaN         NaN   \n",
       "78  My now girlfriend used to have serious addicti...        NaN         NaN   \n",
       "79  The one person I ever talked to it was because...        NaN         NaN   \n",
       "\n",
       "   Unnamed: 5  Unnamed: 6 Unnamed: 7  \n",
       "0         NaN         NaN        NaN  \n",
       "1         NaN         NaN        NaN  \n",
       "2         NaN         NaN        NaN  \n",
       "3         NaN         NaN        NaN  \n",
       "4         NaN         NaN        NaN  \n",
       "..        ...         ...        ...  \n",
       "75        NaN         NaN        NaN  \n",
       "76        NaN         NaN        NaN  \n",
       "77        NaN         NaN        NaN  \n",
       "78        NaN         NaN        NaN  \n",
       "79        NaN         NaN        NaN  \n",
       "\n",
       "[80 rows x 8 columns]"
      ]
     },
     "execution_count": 2,
     "metadata": {},
     "output_type": "execute_result"
    }
   ],
   "source": [
    "data = pd.read_csv(r\"/kaggle/input/deepnlp/Sheet_1.csv\", encoding=\"latin1\")\n",
    "data"
   ]
  },
  {
   "cell_type": "markdown",
   "id": "7d9b7d4f",
   "metadata": {
    "papermill": {
     "duration": 0.009356,
     "end_time": "2022-08-10T11:19:35.709079",
     "exception": false,
     "start_time": "2022-08-10T11:19:35.699723",
     "status": "completed"
    },
    "tags": []
   },
   "source": [
    "In the code below, I will extract my NaN data from the dataset."
   ]
  },
  {
   "cell_type": "code",
   "execution_count": 3,
   "id": "d1152254",
   "metadata": {
    "execution": {
     "iopub.execute_input": "2022-08-10T11:19:35.731226Z",
     "iopub.status.busy": "2022-08-10T11:19:35.730780Z",
     "iopub.status.idle": "2022-08-10T11:19:35.750173Z",
     "shell.execute_reply": "2022-08-10T11:19:35.749173Z"
    },
    "papermill": {
     "duration": 0.032664,
     "end_time": "2022-08-10T11:19:35.752479",
     "exception": false,
     "start_time": "2022-08-10T11:19:35.719815",
     "status": "completed"
    },
    "tags": []
   },
   "outputs": [
    {
     "data": {
      "text/html": [
       "<div>\n",
       "<style scoped>\n",
       "    .dataframe tbody tr th:only-of-type {\n",
       "        vertical-align: middle;\n",
       "    }\n",
       "\n",
       "    .dataframe tbody tr th {\n",
       "        vertical-align: top;\n",
       "    }\n",
       "\n",
       "    .dataframe thead th {\n",
       "        text-align: right;\n",
       "    }\n",
       "</style>\n",
       "<table border=\"1\" class=\"dataframe\">\n",
       "  <thead>\n",
       "    <tr style=\"text-align: right;\">\n",
       "      <th></th>\n",
       "      <th>class</th>\n",
       "      <th>response_text</th>\n",
       "    </tr>\n",
       "  </thead>\n",
       "  <tbody>\n",
       "    <tr>\n",
       "      <th>0</th>\n",
       "      <td>not_flagged</td>\n",
       "      <td>I try and avoid this sort of conflict</td>\n",
       "    </tr>\n",
       "    <tr>\n",
       "      <th>1</th>\n",
       "      <td>flagged</td>\n",
       "      <td>Had a friend open up to me about his mental ad...</td>\n",
       "    </tr>\n",
       "    <tr>\n",
       "      <th>2</th>\n",
       "      <td>flagged</td>\n",
       "      <td>I saved a girl from suicide once. She was goin...</td>\n",
       "    </tr>\n",
       "    <tr>\n",
       "      <th>3</th>\n",
       "      <td>not_flagged</td>\n",
       "      <td>i cant think of one really...i think i may hav...</td>\n",
       "    </tr>\n",
       "    <tr>\n",
       "      <th>4</th>\n",
       "      <td>not_flagged</td>\n",
       "      <td>Only really one friend who doesn't fit into th...</td>\n",
       "    </tr>\n",
       "    <tr>\n",
       "      <th>...</th>\n",
       "      <td>...</td>\n",
       "      <td>...</td>\n",
       "    </tr>\n",
       "    <tr>\n",
       "      <th>75</th>\n",
       "      <td>not_flagged</td>\n",
       "      <td>Now that I've been through it, although i'm no...</td>\n",
       "    </tr>\n",
       "    <tr>\n",
       "      <th>76</th>\n",
       "      <td>flagged</td>\n",
       "      <td>when my best friends mom past away from od'ing...</td>\n",
       "    </tr>\n",
       "    <tr>\n",
       "      <th>77</th>\n",
       "      <td>not_flagged</td>\n",
       "      <td>As a camp counselor I provide stability in kid...</td>\n",
       "    </tr>\n",
       "    <tr>\n",
       "      <th>78</th>\n",
       "      <td>flagged</td>\n",
       "      <td>My now girlfriend used to have serious addicti...</td>\n",
       "    </tr>\n",
       "    <tr>\n",
       "      <th>79</th>\n",
       "      <td>not_flagged</td>\n",
       "      <td>The one person I ever talked to it was because...</td>\n",
       "    </tr>\n",
       "  </tbody>\n",
       "</table>\n",
       "<p>80 rows × 2 columns</p>\n",
       "</div>"
      ],
      "text/plain": [
       "          class                                      response_text\n",
       "0   not_flagged              I try and avoid this sort of conflict\n",
       "1       flagged  Had a friend open up to me about his mental ad...\n",
       "2       flagged  I saved a girl from suicide once. She was goin...\n",
       "3   not_flagged  i cant think of one really...i think i may hav...\n",
       "4   not_flagged  Only really one friend who doesn't fit into th...\n",
       "..          ...                                                ...\n",
       "75  not_flagged  Now that I've been through it, although i'm no...\n",
       "76      flagged  when my best friends mom past away from od'ing...\n",
       "77  not_flagged  As a camp counselor I provide stability in kid...\n",
       "78      flagged  My now girlfriend used to have serious addicti...\n",
       "79  not_flagged  The one person I ever talked to it was because...\n",
       "\n",
       "[80 rows x 2 columns]"
      ]
     },
     "execution_count": 3,
     "metadata": {},
     "output_type": "execute_result"
    }
   ],
   "source": [
    "data = pd.concat([data[\"class\"],data[\"response_text\"]], axis = 1)\n",
    "# Sheet_1.drop([\"response_id\",\"Unnamed: 3\",\"Unnamed: 4\",\"Unnamed: 5\",\"Unnamed: 6\",\"Unnamed: 7\"], axis = 1, inplace = True)\n",
    "\n",
    "data.dropna(axis = 0, inplace=True)\n",
    "data"
   ]
  },
  {
   "cell_type": "markdown",
   "id": "7023da1c",
   "metadata": {
    "papermill": {
     "duration": 0.009628,
     "end_time": "2022-08-10T11:19:35.772027",
     "exception": false,
     "start_time": "2022-08-10T11:19:35.762399",
     "status": "completed"
    },
    "tags": []
   },
   "source": [
    "I will assign a numeric value to the data in the class column because the model has to be a numeric value during learning."
   ]
  },
  {
   "cell_type": "code",
   "execution_count": 4,
   "id": "df35b6f7",
   "metadata": {
    "execution": {
     "iopub.execute_input": "2022-08-10T11:19:35.794313Z",
     "iopub.status.busy": "2022-08-10T11:19:35.793512Z",
     "iopub.status.idle": "2022-08-10T11:19:35.811049Z",
     "shell.execute_reply": "2022-08-10T11:19:35.810045Z"
    },
    "papermill": {
     "duration": 0.031358,
     "end_time": "2022-08-10T11:19:35.813327",
     "exception": false,
     "start_time": "2022-08-10T11:19:35.781969",
     "status": "completed"
    },
    "tags": []
   },
   "outputs": [
    {
     "data": {
      "text/html": [
       "<div>\n",
       "<style scoped>\n",
       "    .dataframe tbody tr th:only-of-type {\n",
       "        vertical-align: middle;\n",
       "    }\n",
       "\n",
       "    .dataframe tbody tr th {\n",
       "        vertical-align: top;\n",
       "    }\n",
       "\n",
       "    .dataframe thead th {\n",
       "        text-align: right;\n",
       "    }\n",
       "</style>\n",
       "<table border=\"1\" class=\"dataframe\">\n",
       "  <thead>\n",
       "    <tr style=\"text-align: right;\">\n",
       "      <th></th>\n",
       "      <th>class</th>\n",
       "      <th>response_text</th>\n",
       "    </tr>\n",
       "  </thead>\n",
       "  <tbody>\n",
       "    <tr>\n",
       "      <th>0</th>\n",
       "      <td>0</td>\n",
       "      <td>I try and avoid this sort of conflict</td>\n",
       "    </tr>\n",
       "    <tr>\n",
       "      <th>1</th>\n",
       "      <td>1</td>\n",
       "      <td>Had a friend open up to me about his mental ad...</td>\n",
       "    </tr>\n",
       "    <tr>\n",
       "      <th>2</th>\n",
       "      <td>1</td>\n",
       "      <td>I saved a girl from suicide once. She was goin...</td>\n",
       "    </tr>\n",
       "    <tr>\n",
       "      <th>3</th>\n",
       "      <td>0</td>\n",
       "      <td>i cant think of one really...i think i may hav...</td>\n",
       "    </tr>\n",
       "    <tr>\n",
       "      <th>4</th>\n",
       "      <td>0</td>\n",
       "      <td>Only really one friend who doesn't fit into th...</td>\n",
       "    </tr>\n",
       "    <tr>\n",
       "      <th>...</th>\n",
       "      <td>...</td>\n",
       "      <td>...</td>\n",
       "    </tr>\n",
       "    <tr>\n",
       "      <th>75</th>\n",
       "      <td>0</td>\n",
       "      <td>Now that I've been through it, although i'm no...</td>\n",
       "    </tr>\n",
       "    <tr>\n",
       "      <th>76</th>\n",
       "      <td>1</td>\n",
       "      <td>when my best friends mom past away from od'ing...</td>\n",
       "    </tr>\n",
       "    <tr>\n",
       "      <th>77</th>\n",
       "      <td>0</td>\n",
       "      <td>As a camp counselor I provide stability in kid...</td>\n",
       "    </tr>\n",
       "    <tr>\n",
       "      <th>78</th>\n",
       "      <td>1</td>\n",
       "      <td>My now girlfriend used to have serious addicti...</td>\n",
       "    </tr>\n",
       "    <tr>\n",
       "      <th>79</th>\n",
       "      <td>0</td>\n",
       "      <td>The one person I ever talked to it was because...</td>\n",
       "    </tr>\n",
       "  </tbody>\n",
       "</table>\n",
       "<p>80 rows × 2 columns</p>\n",
       "</div>"
      ],
      "text/plain": [
       "    class                                      response_text\n",
       "0       0              I try and avoid this sort of conflict\n",
       "1       1  Had a friend open up to me about his mental ad...\n",
       "2       1  I saved a girl from suicide once. She was goin...\n",
       "3       0  i cant think of one really...i think i may hav...\n",
       "4       0  Only really one friend who doesn't fit into th...\n",
       "..    ...                                                ...\n",
       "75      0  Now that I've been through it, although i'm no...\n",
       "76      1  when my best friends mom past away from od'ing...\n",
       "77      0  As a camp counselor I provide stability in kid...\n",
       "78      1  My now girlfriend used to have serious addicti...\n",
       "79      0  The one person I ever talked to it was because...\n",
       "\n",
       "[80 rows x 2 columns]"
      ]
     },
     "execution_count": 4,
     "metadata": {},
     "output_type": "execute_result"
    }
   ],
   "source": [
    "# not_flagged = 0\n",
    "# flagged = 1\n",
    "data['class']=data.loc[:, 'class'].map({'not_flagged':0, 'flagged':1})\n",
    "data"
   ]
  },
  {
   "cell_type": "code",
   "execution_count": 5,
   "id": "42bfc475",
   "metadata": {
    "execution": {
     "iopub.execute_input": "2022-08-10T11:19:35.836195Z",
     "iopub.status.busy": "2022-08-10T11:19:35.835537Z",
     "iopub.status.idle": "2022-08-10T11:19:35.853009Z",
     "shell.execute_reply": "2022-08-10T11:19:35.851914Z"
    },
    "papermill": {
     "duration": 0.032296,
     "end_time": "2022-08-10T11:19:35.855978",
     "exception": false,
     "start_time": "2022-08-10T11:19:35.823682",
     "status": "completed"
    },
    "tags": []
   },
   "outputs": [
    {
     "name": "stdout",
     "output_type": "stream",
     "text": [
      "<class 'pandas.core.frame.DataFrame'>\n",
      "Int64Index: 80 entries, 0 to 79\n",
      "Data columns (total 2 columns):\n",
      " #   Column         Non-Null Count  Dtype \n",
      "---  ------         --------------  ----- \n",
      " 0   class          80 non-null     int64 \n",
      " 1   response_text  80 non-null     object\n",
      "dtypes: int64(1), object(1)\n",
      "memory usage: 1.9+ KB\n"
     ]
    }
   ],
   "source": [
    "# information of data\n",
    "data.info()"
   ]
  },
  {
   "cell_type": "code",
   "execution_count": 6,
   "id": "0abfc5f7",
   "metadata": {
    "execution": {
     "iopub.execute_input": "2022-08-10T11:19:35.879911Z",
     "iopub.status.busy": "2022-08-10T11:19:35.879260Z",
     "iopub.status.idle": "2022-08-10T11:19:35.885208Z",
     "shell.execute_reply": "2022-08-10T11:19:35.884293Z"
    },
    "papermill": {
     "duration": 0.019896,
     "end_time": "2022-08-10T11:19:35.887468",
     "exception": false,
     "start_time": "2022-08-10T11:19:35.867572",
     "status": "completed"
    },
    "tags": []
   },
   "outputs": [
    {
     "data": {
      "text/plain": [
       "Index(['class', 'response_text'], dtype='object')"
      ]
     },
     "execution_count": 6,
     "metadata": {},
     "output_type": "execute_result"
    }
   ],
   "source": [
    "# Dataset columns names\n",
    "data.columns"
   ]
  },
  {
   "cell_type": "markdown",
   "id": "db7894e5",
   "metadata": {
    "papermill": {
     "duration": 0.010377,
     "end_time": "2022-08-10T11:19:35.908266",
     "exception": false,
     "start_time": "2022-08-10T11:19:35.897889",
     "status": "completed"
    },
    "tags": []
   },
   "source": [
    "# Natural Language Process (NLP)  <a id =\"2\"></a>\n",
    "\n",
    "**What is the Natural Language Process(NLP)?**<br>\n",
    "Natural language processing (NLP) is a branch of artificial intelligence (AI) that enables computers to comprehend, generate, and manipulate human language. <br>\n",
    "\n"
   ]
  },
  {
   "cell_type": "code",
   "execution_count": 7,
   "id": "34904514",
   "metadata": {
    "execution": {
     "iopub.execute_input": "2022-08-10T11:19:35.931871Z",
     "iopub.status.busy": "2022-08-10T11:19:35.931212Z",
     "iopub.status.idle": "2022-08-10T11:19:35.942314Z",
     "shell.execute_reply": "2022-08-10T11:19:35.940513Z"
    },
    "papermill": {
     "duration": 0.026575,
     "end_time": "2022-08-10T11:19:35.945778",
     "exception": false,
     "start_time": "2022-08-10T11:19:35.919203",
     "status": "completed"
    },
    "tags": []
   },
   "outputs": [
    {
     "data": {
      "text/html": [
       "<div>\n",
       "<style scoped>\n",
       "    .dataframe tbody tr th:only-of-type {\n",
       "        vertical-align: middle;\n",
       "    }\n",
       "\n",
       "    .dataframe tbody tr th {\n",
       "        vertical-align: top;\n",
       "    }\n",
       "\n",
       "    .dataframe thead th {\n",
       "        text-align: right;\n",
       "    }\n",
       "</style>\n",
       "<table border=\"1\" class=\"dataframe\">\n",
       "  <thead>\n",
       "    <tr style=\"text-align: right;\">\n",
       "      <th></th>\n",
       "      <th>class</th>\n",
       "      <th>response_text</th>\n",
       "    </tr>\n",
       "  </thead>\n",
       "  <tbody>\n",
       "    <tr>\n",
       "      <th>0</th>\n",
       "      <td>0</td>\n",
       "      <td>I try and avoid this sort of conflict</td>\n",
       "    </tr>\n",
       "    <tr>\n",
       "      <th>1</th>\n",
       "      <td>1</td>\n",
       "      <td>Had a friend open up to me about his mental ad...</td>\n",
       "    </tr>\n",
       "    <tr>\n",
       "      <th>2</th>\n",
       "      <td>1</td>\n",
       "      <td>I saved a girl from suicide once. She was goin...</td>\n",
       "    </tr>\n",
       "    <tr>\n",
       "      <th>3</th>\n",
       "      <td>0</td>\n",
       "      <td>i cant think of one really...i think i may hav...</td>\n",
       "    </tr>\n",
       "    <tr>\n",
       "      <th>4</th>\n",
       "      <td>0</td>\n",
       "      <td>Only really one friend who doesn't fit into th...</td>\n",
       "    </tr>\n",
       "    <tr>\n",
       "      <th>5</th>\n",
       "      <td>0</td>\n",
       "      <td>a couple of years ago my friends was going to ...</td>\n",
       "    </tr>\n",
       "    <tr>\n",
       "      <th>6</th>\n",
       "      <td>1</td>\n",
       "      <td>Roommate when he was going through death and l...</td>\n",
       "    </tr>\n",
       "    <tr>\n",
       "      <th>7</th>\n",
       "      <td>1</td>\n",
       "      <td>i've had a couple of friends (you could say mo...</td>\n",
       "    </tr>\n",
       "    <tr>\n",
       "      <th>8</th>\n",
       "      <td>0</td>\n",
       "      <td>Listened to someone talk about relationship tr...</td>\n",
       "    </tr>\n",
       "    <tr>\n",
       "      <th>9</th>\n",
       "      <td>1</td>\n",
       "      <td>I will always listen. I comforted my sister wh...</td>\n",
       "    </tr>\n",
       "  </tbody>\n",
       "</table>\n",
       "</div>"
      ],
      "text/plain": [
       "   class                                      response_text\n",
       "0      0              I try and avoid this sort of conflict\n",
       "1      1  Had a friend open up to me about his mental ad...\n",
       "2      1  I saved a girl from suicide once. She was goin...\n",
       "3      0  i cant think of one really...i think i may hav...\n",
       "4      0  Only really one friend who doesn't fit into th...\n",
       "5      0  a couple of years ago my friends was going to ...\n",
       "6      1  Roommate when he was going through death and l...\n",
       "7      1  i've had a couple of friends (you could say mo...\n",
       "8      0  Listened to someone talk about relationship tr...\n",
       "9      1  I will always listen. I comforted my sister wh..."
      ]
     },
     "execution_count": 7,
     "metadata": {},
     "output_type": "execute_result"
    }
   ],
   "source": [
    "data.head(10)"
   ]
  },
  {
   "cell_type": "markdown",
   "id": "16043539",
   "metadata": {
    "papermill": {
     "duration": 0.010333,
     "end_time": "2022-08-10T11:19:35.966892",
     "exception": false,
     "start_time": "2022-08-10T11:19:35.956559",
     "status": "completed"
    },
    "tags": []
   },
   "source": [
    "### Regular expression operations <a id = \"nlp1\"></a>\n",
    "In this section, I will clean the non-letter symbols with the Re library. (/, *, -, ',\")"
   ]
  },
  {
   "cell_type": "markdown",
   "id": "12fd378d",
   "metadata": {
    "papermill": {
     "duration": 0.009972,
     "end_time": "2022-08-10T11:19:35.987456",
     "exception": false,
     "start_time": "2022-08-10T11:19:35.977484",
     "status": "completed"
    },
    "tags": []
   },
   "source": [
    "This is the fourth data in the column of response_text."
   ]
  },
  {
   "cell_type": "code",
   "execution_count": 8,
   "id": "caa619c3",
   "metadata": {
    "execution": {
     "iopub.execute_input": "2022-08-10T11:19:36.010879Z",
     "iopub.status.busy": "2022-08-10T11:19:36.010406Z",
     "iopub.status.idle": "2022-08-10T11:19:36.017552Z",
     "shell.execute_reply": "2022-08-10T11:19:36.016628Z"
    },
    "papermill": {
     "duration": 0.021378,
     "end_time": "2022-08-10T11:19:36.019845",
     "exception": false,
     "start_time": "2022-08-10T11:19:35.998467",
     "status": "completed"
    },
    "tags": []
   },
   "outputs": [
    {
     "data": {
      "text/plain": [
       "'Only really one friend who doesn\\'t fit into the any of the above categories. Her therapist calls it spiraling.\" Anyway she pretty much calls me any time she is frustrated by something with  her boyfriend to ask me if it\\'s logical or not. Before they would just fight and he would call her crazy. Now she asks me if it\\'s ok he didn\\'t say \"please\" when he said  \"hand me the remote.\"'"
      ]
     },
     "execution_count": 8,
     "metadata": {},
     "output_type": "execute_result"
    }
   ],
   "source": [
    "data.response_text[4]"
   ]
  },
  {
   "cell_type": "markdown",
   "id": "e8dc84d4",
   "metadata": {
    "papermill": {
     "duration": 0.010462,
     "end_time": "2022-08-10T11:19:36.040904",
     "exception": false,
     "start_time": "2022-08-10T11:19:36.030442",
     "status": "completed"
    },
    "tags": []
   },
   "source": [
    "Cleaning Data"
   ]
  },
  {
   "cell_type": "code",
   "execution_count": 9,
   "id": "8cc86b0b",
   "metadata": {
    "execution": {
     "iopub.execute_input": "2022-08-10T11:19:36.063681Z",
     "iopub.status.busy": "2022-08-10T11:19:36.063268Z",
     "iopub.status.idle": "2022-08-10T11:19:36.069879Z",
     "shell.execute_reply": "2022-08-10T11:19:36.068503Z"
    },
    "papermill": {
     "duration": 0.021241,
     "end_time": "2022-08-10T11:19:36.072715",
     "exception": false,
     "start_time": "2022-08-10T11:19:36.051474",
     "status": "completed"
    },
    "tags": []
   },
   "outputs": [],
   "source": [
    "import re\n",
    "first_Res_text = data.response_text[4]\n",
    "Res_text = re.sub(\"[^a-zA-Z]\",\" \", first_Res_text)\n",
    "Res_text = Res_text.lower()"
   ]
  },
  {
   "cell_type": "markdown",
   "id": "47917fd9",
   "metadata": {
    "papermill": {
     "duration": 0.010963,
     "end_time": "2022-08-10T11:19:36.094858",
     "exception": false,
     "start_time": "2022-08-10T11:19:36.083895",
     "status": "completed"
    },
    "tags": []
   },
   "source": [
    "This data is the aspect after cleaning data."
   ]
  },
  {
   "cell_type": "code",
   "execution_count": 10,
   "id": "c1e9c8a2",
   "metadata": {
    "execution": {
     "iopub.execute_input": "2022-08-10T11:19:36.119216Z",
     "iopub.status.busy": "2022-08-10T11:19:36.118311Z",
     "iopub.status.idle": "2022-08-10T11:19:36.125852Z",
     "shell.execute_reply": "2022-08-10T11:19:36.124646Z"
    },
    "papermill": {
     "duration": 0.021859,
     "end_time": "2022-08-10T11:19:36.128145",
     "exception": false,
     "start_time": "2022-08-10T11:19:36.106286",
     "status": "completed"
    },
    "tags": []
   },
   "outputs": [
    {
     "data": {
      "text/plain": [
       "'only really one friend who doesn t fit into the any of the above categories  her therapist calls it spiraling   anyway she pretty much calls me any time she is frustrated by something with  her boyfriend to ask me if it s logical or not  before they would just fight and he would call her crazy  now she asks me if it s ok he didn t say  please  when he said   hand me the remote  '"
      ]
     },
     "execution_count": 10,
     "metadata": {},
     "output_type": "execute_result"
    }
   ],
   "source": [
    "Res_text"
   ]
  },
  {
   "cell_type": "markdown",
   "id": "60cb93f9",
   "metadata": {
    "papermill": {
     "duration": 0.010367,
     "end_time": "2022-08-10T11:19:36.149420",
     "exception": false,
     "start_time": "2022-08-10T11:19:36.139053",
     "status": "completed"
    },
    "tags": []
   },
   "source": [
    "### NLTK <a id =\"nlp2\"></a>\n",
    "In this chapter, I will get the words in the sentence."
   ]
  },
  {
   "cell_type": "code",
   "execution_count": 11,
   "id": "5974f084",
   "metadata": {
    "execution": {
     "iopub.execute_input": "2022-08-10T11:19:36.174497Z",
     "iopub.status.busy": "2022-08-10T11:19:36.174104Z",
     "iopub.status.idle": "2022-08-10T11:19:37.096436Z",
     "shell.execute_reply": "2022-08-10T11:19:37.095193Z"
    },
    "papermill": {
     "duration": 0.938171,
     "end_time": "2022-08-10T11:19:37.099706",
     "exception": false,
     "start_time": "2022-08-10T11:19:36.161535",
     "status": "completed"
    },
    "tags": []
   },
   "outputs": [],
   "source": [
    "import nltk\n",
    "from nltk.corpus import stopwords\n",
    "\n",
    "Res_text = nltk.word_tokenize(Res_text)\n",
    "Res_text = [word for word in Res_text if not word in set(stopwords.words(\"english\"))]"
   ]
  },
  {
   "cell_type": "markdown",
   "id": "4545e5db",
   "metadata": {
    "papermill": {
     "duration": 0.011099,
     "end_time": "2022-08-10T11:19:37.121766",
     "exception": false,
     "start_time": "2022-08-10T11:19:37.110667",
     "status": "completed"
    },
    "tags": []
   },
   "source": [
    "Words in the sentence."
   ]
  },
  {
   "cell_type": "code",
   "execution_count": 12,
   "id": "befc594e",
   "metadata": {
    "execution": {
     "iopub.execute_input": "2022-08-10T11:19:37.145349Z",
     "iopub.status.busy": "2022-08-10T11:19:37.144915Z",
     "iopub.status.idle": "2022-08-10T11:19:37.153019Z",
     "shell.execute_reply": "2022-08-10T11:19:37.151713Z"
    },
    "papermill": {
     "duration": 0.022942,
     "end_time": "2022-08-10T11:19:37.155398",
     "exception": false,
     "start_time": "2022-08-10T11:19:37.132456",
     "status": "completed"
    },
    "tags": []
   },
   "outputs": [
    {
     "data": {
      "text/plain": [
       "['really',\n",
       " 'one',\n",
       " 'friend',\n",
       " 'fit',\n",
       " 'categories',\n",
       " 'therapist',\n",
       " 'calls',\n",
       " 'spiraling',\n",
       " 'anyway',\n",
       " 'pretty',\n",
       " 'much',\n",
       " 'calls',\n",
       " 'time',\n",
       " 'frustrated',\n",
       " 'something',\n",
       " 'boyfriend',\n",
       " 'ask',\n",
       " 'logical',\n",
       " 'would',\n",
       " 'fight',\n",
       " 'would',\n",
       " 'call',\n",
       " 'crazy',\n",
       " 'asks',\n",
       " 'ok',\n",
       " 'say',\n",
       " 'please',\n",
       " 'said',\n",
       " 'hand',\n",
       " 'remote']"
      ]
     },
     "execution_count": 12,
     "metadata": {},
     "output_type": "execute_result"
    }
   ],
   "source": [
    "Res_text"
   ]
  },
  {
   "cell_type": "markdown",
   "id": "0c23b8c2",
   "metadata": {
    "papermill": {
     "duration": 0.010276,
     "end_time": "2022-08-10T11:19:37.176675",
     "exception": false,
     "start_time": "2022-08-10T11:19:37.166399",
     "status": "completed"
    },
    "tags": []
   },
   "source": [
    "### Lemmatazation <a id =\"nlp3\"></a>\n",
    "In this chapter, I will translate the words that I have pre-determined into their basic forms."
   ]
  },
  {
   "cell_type": "code",
   "execution_count": 13,
   "id": "4c37dff8",
   "metadata": {
    "execution": {
     "iopub.execute_input": "2022-08-10T11:19:37.199784Z",
     "iopub.status.busy": "2022-08-10T11:19:37.199367Z",
     "iopub.status.idle": "2022-08-10T11:19:37.785004Z",
     "shell.execute_reply": "2022-08-10T11:19:37.783776Z"
    },
    "papermill": {
     "duration": 0.60024,
     "end_time": "2022-08-10T11:19:37.787539",
     "exception": false,
     "start_time": "2022-08-10T11:19:37.187299",
     "status": "completed"
    },
    "tags": []
   },
   "outputs": [
    {
     "name": "stderr",
     "output_type": "stream",
     "text": [
      "[nltk_data] Downloading package wordnet to /usr/share/nltk_data...\n",
      "[nltk_data]   Package wordnet is already up-to-date!\n",
      "[nltk_data] Downloading package omw-1.4 to /usr/share/nltk_data...\n"
     ]
    },
    {
     "data": {
      "text/plain": [
       "True"
      ]
     },
     "execution_count": 13,
     "metadata": {},
     "output_type": "execute_result"
    }
   ],
   "source": [
    "nltk.download(\"wordnet\")\n",
    "nltk.download(\"omw-1.4\")"
   ]
  },
  {
   "cell_type": "code",
   "execution_count": 14,
   "id": "18d9f9a1",
   "metadata": {
    "execution": {
     "iopub.execute_input": "2022-08-10T11:19:37.811833Z",
     "iopub.status.busy": "2022-08-10T11:19:37.810618Z",
     "iopub.status.idle": "2022-08-10T11:19:39.730958Z",
     "shell.execute_reply": "2022-08-10T11:19:39.729756Z"
    },
    "papermill": {
     "duration": 1.93568,
     "end_time": "2022-08-10T11:19:39.734157",
     "exception": false,
     "start_time": "2022-08-10T11:19:37.798477",
     "status": "completed"
    },
    "tags": []
   },
   "outputs": [],
   "source": [
    "import nltk as nlp\n",
    "lemma = nlp.WordNetLemmatizer()\n",
    "Res_text = [lemma.lemmatize(word) for word in Res_text]\n",
    "Res_text = \" \".join(Res_text)"
   ]
  },
  {
   "cell_type": "markdown",
   "id": "646302d5",
   "metadata": {
    "papermill": {
     "duration": 0.011512,
     "end_time": "2022-08-10T11:19:39.757147",
     "exception": false,
     "start_time": "2022-08-10T11:19:39.745635",
     "status": "completed"
    },
    "tags": []
   },
   "source": [
    "Words have backed to their basic form."
   ]
  },
  {
   "cell_type": "code",
   "execution_count": 15,
   "id": "672eaf6f",
   "metadata": {
    "execution": {
     "iopub.execute_input": "2022-08-10T11:19:39.780996Z",
     "iopub.status.busy": "2022-08-10T11:19:39.780561Z",
     "iopub.status.idle": "2022-08-10T11:19:39.788037Z",
     "shell.execute_reply": "2022-08-10T11:19:39.786808Z"
    },
    "papermill": {
     "duration": 0.022131,
     "end_time": "2022-08-10T11:19:39.790329",
     "exception": false,
     "start_time": "2022-08-10T11:19:39.768198",
     "status": "completed"
    },
    "tags": []
   },
   "outputs": [
    {
     "data": {
      "text/plain": [
       "'really one friend fit category therapist call spiraling anyway pretty much call time frustrated something boyfriend ask logical would fight would call crazy asks ok say please said hand remote'"
      ]
     },
     "execution_count": 15,
     "metadata": {},
     "output_type": "execute_result"
    }
   ],
   "source": [
    "Res_text"
   ]
  },
  {
   "cell_type": "markdown",
   "id": "6f9f523e",
   "metadata": {
    "papermill": {
     "duration": 0.010762,
     "end_time": "2022-08-10T11:19:39.812413",
     "exception": false,
     "start_time": "2022-08-10T11:19:39.801651",
     "status": "completed"
    },
    "tags": []
   },
   "source": [
    "### Words <a id = \"nlp4\"></a>\n",
    "In this section, I will apply the above studies to the entire data set. I'm getting inside the list of the latest versions of the data."
   ]
  },
  {
   "cell_type": "code",
   "execution_count": 16,
   "id": "7f8e6c5f",
   "metadata": {
    "execution": {
     "iopub.execute_input": "2022-08-10T11:19:39.836269Z",
     "iopub.status.busy": "2022-08-10T11:19:39.835844Z",
     "iopub.status.idle": "2022-08-10T11:19:40.262680Z",
     "shell.execute_reply": "2022-08-10T11:19:40.261463Z"
    },
    "papermill": {
     "duration": 0.442465,
     "end_time": "2022-08-10T11:19:40.265895",
     "exception": false,
     "start_time": "2022-08-10T11:19:39.823430",
     "status": "completed"
    },
    "tags": []
   },
   "outputs": [],
   "source": [
    "description_list = [] # List\n",
    "for description in data.response_text:\n",
    "       \n",
    "    description = re.sub(\"[^a-zA-Z]\",\" \",description)\n",
    "    description = description.lower() \n",
    "    \n",
    "    description = nltk.word_tokenize(description)\n",
    "    description = [ word for word in description if not word in set(stopwords.words(\"english\"))]\n",
    "    \n",
    "    lemma = nlp.WordNetLemmatizer()\n",
    "    description = [ lemma.lemmatize(word) for word in description]\n",
    "    \n",
    "    description = \" \".join(description)\n",
    "    description_list.append(description)"
   ]
  },
  {
   "cell_type": "code",
   "execution_count": 17,
   "id": "c24797c6",
   "metadata": {
    "execution": {
     "iopub.execute_input": "2022-08-10T11:19:40.289682Z",
     "iopub.status.busy": "2022-08-10T11:19:40.289256Z",
     "iopub.status.idle": "2022-08-10T11:19:40.295869Z",
     "shell.execute_reply": "2022-08-10T11:19:40.294708Z"
    },
    "papermill": {
     "duration": 0.021753,
     "end_time": "2022-08-10T11:19:40.298669",
     "exception": false,
     "start_time": "2022-08-10T11:19:40.276916",
     "status": "completed"
    },
    "tags": []
   },
   "outputs": [
    {
     "data": {
      "text/plain": [
       "'really one friend fit category therapist call spiraling anyway pretty much call time frustrated something boyfriend ask logical would fight would call crazy asks ok say please said hand remote'"
      ]
     },
     "execution_count": 17,
     "metadata": {},
     "output_type": "execute_result"
    }
   ],
   "source": [
    "description_list[4]"
   ]
  },
  {
   "cell_type": "markdown",
   "id": "e740bacf",
   "metadata": {
    "papermill": {
     "duration": 0.010752,
     "end_time": "2022-08-10T11:19:40.320596",
     "exception": false,
     "start_time": "2022-08-10T11:19:40.309844",
     "status": "completed"
    },
    "tags": []
   },
   "source": [
    "### Bag of Words <a id=\"nlp5\"></a>\n",
    "I find the most used words in the list."
   ]
  },
  {
   "cell_type": "code",
   "execution_count": 18,
   "id": "7e9556e0",
   "metadata": {
    "execution": {
     "iopub.execute_input": "2022-08-10T11:19:40.344984Z",
     "iopub.status.busy": "2022-08-10T11:19:40.343791Z",
     "iopub.status.idle": "2022-08-10T11:19:40.358253Z",
     "shell.execute_reply": "2022-08-10T11:19:40.357382Z"
    },
    "papermill": {
     "duration": 0.029625,
     "end_time": "2022-08-10T11:19:40.361182",
     "exception": false,
     "start_time": "2022-08-10T11:19:40.331557",
     "status": "completed"
    },
    "tags": []
   },
   "outputs": [
    {
     "name": "stdout",
     "output_type": "stream",
     "text": [
      "Most frequently used 500 words ['able' 'absolutely' 'acquaintance' 'acted' 'action' 'activity'\n",
      " 'addiction' 'adequate' 'admit' 'advice' 'advise' 'age' 'ago' 'agony'\n",
      " 'alcoholic' 'allowed' 'anniversary' 'answer' 'anxiety' 'anxious'\n",
      " 'apposed' 'ask' 'asks' 'attention' 'aunt' 'avoid' 'away' 'bad'\n",
      " 'basically' 'bedroom' 'best' 'better' 'big' 'bit' 'blow' 'blue' 'blunt'\n",
      " 'book' 'boyfriend' 'break' 'bring' 'brother' 'brought' 'bunch' 'called'\n",
      " 'calling' 'calm' 'came' 'camp' 'camping' 'campsite' 'cancer' 'car' 'care'\n",
      " 'caring' 'category' 'caught' 'cause' 'chance' 'change' 'changed' 'chat'\n",
      " 'circumstance' 'clean' 'cleaning' 'cocaine' 'come' 'comfort' 'comforted'\n",
      " 'commit' 'common' 'complete' 'completely' 'concern' 'confines' 'conflict'\n",
      " 'convinced' 'cop' 'cope' 'counselor' 'countless' 'couple' 'crazy'\n",
      " 'cutter' 'cutting' 'damn' 'dating' 'day' 'dealing' 'dealt' 'death'\n",
      " 'defined' 'depressed' 'depression' 'describes' 'desire' 'diagnosed'\n",
      " 'dialog' 'difficulty' 'disorder' 'doc' 'dont' 'douche' 'drag' 'drove'\n",
      " 'drug' 'dump' 'dumped' 'dying' 'ear' 'earlier' 'email' 'emotional'\n",
      " 'encourage' 'end' 'ended' 'entire' 'essential' 'esteem' 'eventually'\n",
      " 'everyday' 'ex' 'example' 'excited' 'experience' 'express' 'expressing'\n",
      " 'extremely' 'face' 'facebook' 'faced' 'facing' 'fact' 'fairly' 'family'\n",
      " 'father' 'feel' 'feeling' 'fell' 'felt' 'fight' 'fit' 'fixed' 'flicker'\n",
      " 'focus' 'friend' 'frustrated' 'gave' 'ged' 'gf' 'girl' 'girlfriend'\n",
      " 'giving' 'goal' 'going' 'gone' 'good' 'got' 'grade' 'grandmother' 'guess'\n",
      " 'guy' 'hadnt' 'haha' 'half' 'hand' 'happens' 'hard' 'harmed' 'head'\n",
      " 'healing' 'health' 'hear' 'heard' 'help' 'helped' 'helpful' 'helping'\n",
      " 'hesitate' 'high' 'hit' 'hold' 'home' 'homeless' 'honest' 'hood' 'hope'\n",
      " 'hoping' 'horrable' 'hospital' 'hour' 'house' 'huge' 'human' 'hung'\n",
      " 'hurt' 'idk' 'important' 'indirectly' 'ing' 'initiated' 'innermost'\n",
      " 'input' 'inside' 'intense' 'internet' 'irl' 'isolated' 'issue' 'jokingly'\n",
      " 'judge' 'junior' 'kid' 'kill' 'killed' 'kind' 'kindness' 'knew' 'know'\n",
      " 'knowledge' 'known' 'lack' 'late' 'laugh' 'le' 'lent' 'let' 'letting'\n",
      " 'level' 'life' 'light' 'like' 'line' 'listen' 'listened' 'listener'\n",
      " 'listening' 'little' 'living' 'logical' 'long' 'look' 'looked' 'losing'\n",
      " 'loss' 'lost' 'lot' 'loving' 'low' 'major' 'make' 'making' 'managed'\n",
      " 'maybe' 'memorial' 'men' 'mental' 'met' 'method' 'mind' 'mom' 'month'\n",
      " 'mother' 'mt' 'nah' 'naturally' 'necessarily' 'need' 'needed' 'nervous'\n",
      " 'nice' 'night' 'normal' 'number' 'objective' 'obtain' 'occurrence' 'od'\n",
      " 'offer' 'offered' 'oh' 'ok' 'open' 'openness' 'overcome' 'packed'\n",
      " 'parent' 'past' 'path' 'peace' 'people' 'perfect' 'period' 'person'\n",
      " 'personal' 'physical' 'picked' 'pill' 'positive' 'possible' 'possibly'\n",
      " 'pretty' 'probably' 'problem' 'progress' 'promised' 'provide' 'psych'\n",
      " 'pulled' 'purpose' 'qualified' 'question' 'quite' 'rant' 'rational'\n",
      " 'reading' 'reality' 'realize' 'really' 'recovery' 'refers' 'reflect'\n",
      " 'rehab' 'rejected' 'rejecting' 'relate' 'related' 'relationship' 'relief'\n",
      " 'remember' 'remind' 'remote' 'resource' 'respect' 'restless' 'result'\n",
      " 'roommate' 'rude' 'sad' 'said' 'saved' 'saw' 'say' 'saying' 'school'\n",
      " 'schoolwork' 'self' 'sense' 'set' 'severe' 'share' 'shared' 'sharing'\n",
      " 'shelter' 'shit' 'shortly' 'sign' 'similar' 'simply' 'sister' 'situation'\n",
      " 'skipped' 'slightly' 'slowly' 'somebody' 'sort' 'speak' 'specific'\n",
      " 'specifically' 'spent' 'spiraling' 'spot' 'stability' 'start' 'started'\n",
      " 'stayed' 'stopped' 'story' 'stranger' 'struggle' 'struggling' 'stuff'\n",
      " 'subject' 'suffer' 'suicidal' 'suicide' 'summer' 'super' 'support'\n",
      " 'supporting' 'supportive' 'sure' 'surfing' 'survival' 'sustained'\n",
      " 'swallow' 'swaying' 'swimming' 'switch' 'switched' 'taken' 'taking'\n",
      " 'talk' 'talked' 'talking' 'teacher' 'tell' 'telling' 'thankgiving'\n",
      " 'thats' 'therapist' 'therapy' 'theripist' 'thing' 'think' 'thinking'\n",
      " 'thought' 'threw' 'till' 'time' 'told' 'took' 'tough' 'trapped' 'treat'\n",
      " 'treatment' 'tried' 'trouble' 'troubled' 'truth' 'try' 'tryin' 'trying'\n",
      " 'tunnel' 'turmoil' 'tutor' 'twice' 'type' 'understand' 'unfortunately'\n",
      " 'unless' 'used' 'using' 'vent' 'verge' 'virgity' 'visited' 'walked'\n",
      " 'want' 'wanted' 'ward' 'way' 'weed' 'week' 'went' 'wood' 'work' 'worked'\n",
      " 'write' 'year' 'yearbook']\n"
     ]
    }
   ],
   "source": [
    "from sklearn.feature_extraction.text import CountVectorizer\n",
    "max_feature = 500\n",
    "\n",
    "cv = CountVectorizer(max_features = max_feature, stop_words = \"english\")\n",
    "\n",
    "space_matrix = cv.fit_transform(description_list).toarray() # x\n",
    "\n",
    "print(\"Most frequently used {} words {}\".format(max_feature, cv.get_feature_names_out()))"
   ]
  },
  {
   "cell_type": "markdown",
   "id": "222f6fa3",
   "metadata": {
    "papermill": {
     "duration": 0.0109,
     "end_time": "2022-08-10T11:19:40.384347",
     "exception": false,
     "start_time": "2022-08-10T11:19:40.373447",
     "status": "completed"
    },
    "tags": []
   },
   "source": [
    "### Naive Bayes Classification <a id = \"nlp6\"></a> \n",
    "In this chapter, I will apply the Naive Bayes Classification model to the dataset. I explained this model in the \"Classification With Naive Bayes Classification\" my work."
   ]
  },
  {
   "cell_type": "markdown",
   "id": "f4a66ceb",
   "metadata": {
    "papermill": {
     "duration": 0.010939,
     "end_time": "2022-08-10T11:19:40.406811",
     "exception": false,
     "start_time": "2022-08-10T11:19:40.395872",
     "status": "completed"
    },
    "tags": []
   },
   "source": [
    "In the code below, I separate my data into x and y."
   ]
  },
  {
   "cell_type": "code",
   "execution_count": 19,
   "id": "37bb5aec",
   "metadata": {
    "execution": {
     "iopub.execute_input": "2022-08-10T11:19:40.431740Z",
     "iopub.status.busy": "2022-08-10T11:19:40.430460Z",
     "iopub.status.idle": "2022-08-10T11:19:40.435677Z",
     "shell.execute_reply": "2022-08-10T11:19:40.434878Z"
    },
    "papermill": {
     "duration": 0.019749,
     "end_time": "2022-08-10T11:19:40.437829",
     "exception": false,
     "start_time": "2022-08-10T11:19:40.418080",
     "status": "completed"
    },
    "tags": []
   },
   "outputs": [],
   "source": [
    "x = space_matrix\n",
    "y = data.iloc[:,0].values"
   ]
  },
  {
   "cell_type": "code",
   "execution_count": 20,
   "id": "801b3012",
   "metadata": {
    "execution": {
     "iopub.execute_input": "2022-08-10T11:19:40.462229Z",
     "iopub.status.busy": "2022-08-10T11:19:40.461785Z",
     "iopub.status.idle": "2022-08-10T11:19:40.468450Z",
     "shell.execute_reply": "2022-08-10T11:19:40.467595Z"
    },
    "papermill": {
     "duration": 0.021667,
     "end_time": "2022-08-10T11:19:40.470726",
     "exception": false,
     "start_time": "2022-08-10T11:19:40.449059",
     "status": "completed"
    },
    "tags": []
   },
   "outputs": [
    {
     "data": {
      "text/plain": [
       "array([[0, 0, 0, ..., 0, 0, 0],\n",
       "       [0, 0, 0, ..., 0, 0, 0],\n",
       "       [0, 0, 0, ..., 0, 0, 0],\n",
       "       ...,\n",
       "       [0, 0, 0, ..., 0, 0, 0],\n",
       "       [0, 0, 0, ..., 0, 0, 0],\n",
       "       [0, 0, 0, ..., 0, 0, 0]])"
      ]
     },
     "execution_count": 20,
     "metadata": {},
     "output_type": "execute_result"
    }
   ],
   "source": [
    "x"
   ]
  },
  {
   "cell_type": "code",
   "execution_count": 21,
   "id": "8f927362",
   "metadata": {
    "execution": {
     "iopub.execute_input": "2022-08-10T11:19:40.496053Z",
     "iopub.status.busy": "2022-08-10T11:19:40.494868Z",
     "iopub.status.idle": "2022-08-10T11:19:40.503720Z",
     "shell.execute_reply": "2022-08-10T11:19:40.502531Z"
    },
    "papermill": {
     "duration": 0.023902,
     "end_time": "2022-08-10T11:19:40.506116",
     "exception": false,
     "start_time": "2022-08-10T11:19:40.482214",
     "status": "completed"
    },
    "tags": []
   },
   "outputs": [
    {
     "data": {
      "text/plain": [
       "array([0, 1, 1, 0, 0, 0, 1, 1, 0, 1, 0, 1, 0, 0, 0, 1, 0, 0, 0, 0, 0, 1,\n",
       "       1, 0, 0, 1, 1, 0, 1, 0, 0, 0, 0, 0, 0, 0, 1, 0, 1, 0, 1, 0, 0, 0,\n",
       "       0, 0, 0, 0, 1, 0, 0, 1, 0, 0, 0, 0, 0, 1, 0, 1, 0, 1, 0, 0, 1, 0,\n",
       "       0, 0, 0, 0, 0, 0, 1, 0, 1, 0, 1, 0, 1, 0])"
      ]
     },
     "execution_count": 21,
     "metadata": {},
     "output_type": "execute_result"
    }
   ],
   "source": [
    "y"
   ]
  },
  {
   "cell_type": "code",
   "execution_count": 22,
   "id": "f1accdcf",
   "metadata": {
    "execution": {
     "iopub.execute_input": "2022-08-10T11:19:40.531592Z",
     "iopub.status.busy": "2022-08-10T11:19:40.530828Z",
     "iopub.status.idle": "2022-08-10T11:19:40.536574Z",
     "shell.execute_reply": "2022-08-10T11:19:40.535706Z"
    },
    "papermill": {
     "duration": 0.020952,
     "end_time": "2022-08-10T11:19:40.538731",
     "exception": false,
     "start_time": "2022-08-10T11:19:40.517779",
     "status": "completed"
    },
    "tags": []
   },
   "outputs": [],
   "source": [
    "# Train Test Split\n",
    "from sklearn.model_selection import train_test_split\n",
    "\n",
    "x_train, x_test, y_train, y_test = train_test_split(x, y, test_size = 0.1, random_state = 42)"
   ]
  },
  {
   "cell_type": "markdown",
   "id": "47fee7b4",
   "metadata": {
    "papermill": {
     "duration": 0.011092,
     "end_time": "2022-08-10T11:19:40.561258",
     "exception": false,
     "start_time": "2022-08-10T11:19:40.550166",
     "status": "completed"
    },
    "tags": []
   },
   "source": [
    "In the code below, I apply the Naive Bayes Classification model."
   ]
  },
  {
   "cell_type": "code",
   "execution_count": 23,
   "id": "144b50d9",
   "metadata": {
    "execution": {
     "iopub.execute_input": "2022-08-10T11:19:40.586920Z",
     "iopub.status.busy": "2022-08-10T11:19:40.586176Z",
     "iopub.status.idle": "2022-08-10T11:19:40.597089Z",
     "shell.execute_reply": "2022-08-10T11:19:40.596103Z"
    },
    "papermill": {
     "duration": 0.027069,
     "end_time": "2022-08-10T11:19:40.599727",
     "exception": false,
     "start_time": "2022-08-10T11:19:40.572658",
     "status": "completed"
    },
    "tags": []
   },
   "outputs": [
    {
     "name": "stdout",
     "output_type": "stream",
     "text": [
      "The accuracy of the Random Forest is 0.625\n"
     ]
    }
   ],
   "source": [
    "from sklearn.naive_bayes import GaussianNB\n",
    "from sklearn import metrics\n",
    "gnb = GaussianNB()\n",
    "\n",
    "gnb.fit(x_train,y_train)\n",
    "\n",
    "y_pred = gnb.predict(x_test)\n",
    "\n",
    "print('The accuracy of the Random Forest is',metrics.accuracy_score(y_pred,y_test))"
   ]
  },
  {
   "cell_type": "markdown",
   "id": "bb1f9d29",
   "metadata": {
    "papermill": {
     "duration": 0.011072,
     "end_time": "2022-08-10T11:19:40.622278",
     "exception": false,
     "start_time": "2022-08-10T11:19:40.611206",
     "status": "completed"
    },
    "tags": []
   },
   "source": [
    "# CONCLUSION <a id = \"3\"></a>\n",
    "I am learning the English language newly if I make an errata please advise me in the comment. Thank you for reading my notebook, your votes and your comments. I will be waiting for your advice."
   ]
  }
 ],
 "metadata": {
  "kernelspec": {
   "display_name": "Python 3",
   "language": "python",
   "name": "python3"
  },
  "language_info": {
   "codemirror_mode": {
    "name": "ipython",
    "version": 3
   },
   "file_extension": ".py",
   "mimetype": "text/x-python",
   "name": "python",
   "nbconvert_exporter": "python",
   "pygments_lexer": "ipython3",
   "version": "3.7.12"
  },
  "papermill": {
   "default_parameters": {},
   "duration": 18.107012,
   "end_time": "2022-08-10T11:19:41.657620",
   "environment_variables": {},
   "exception": null,
   "input_path": "__notebook__.ipynb",
   "output_path": "__notebook__.ipynb",
   "parameters": {},
   "start_time": "2022-08-10T11:19:23.550608",
   "version": "2.3.4"
  }
 },
 "nbformat": 4,
 "nbformat_minor": 5
}
