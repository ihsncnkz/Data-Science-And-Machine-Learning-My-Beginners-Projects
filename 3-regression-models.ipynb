{
 "cells": [
  {
   "cell_type": "markdown",
   "id": "b832d06c",
   "metadata": {
    "papermill": {
     "duration": 0.016797,
     "end_time": "2022-07-31T11:39:37.719646",
     "exception": false,
     "start_time": "2022-07-31T11:39:37.702849",
     "status": "completed"
    },
    "tags": []
   },
   "source": [
    "Hello, I am Ihsan.<br>\n",
    "I graduated from university this year. I improve myself on the topic of machine learning and Data science. This notebook is my third notebook and I will continue to write notebook this topics. I will use the regression models of the supervised part from machine learning in this notebook. My goal is to learn to use regression models on datasets. I used five regression models. I explained regression models shortly but If I have a mistake Please warn me in the comment. Your comments important for me because I am learning newly, I can be don't know things. I would be happy if you help me on this way. I will be waiting for your advice.<br>\n",
    "[For a detailed description of the dataset, please click here](https://www.kaggle.com/datasets/andonians/random-linear-regression)\n",
    "\n",
    "Other My notebooks:<br>\n",
    "- [GPU Search](https://www.kaggle.com/code/ihsncnkz/gpu-search)\n",
    "- [EDA And Linear Regression](https://www.kaggle.com/code/ihsncnkz/eda-and-linear-regression)\n",
    "\n"
   ]
  },
  {
   "cell_type": "markdown",
   "id": "0598935e",
   "metadata": {
    "papermill": {
     "duration": 0.015075,
     "end_time": "2022-07-31T11:39:37.750188",
     "exception": false,
     "start_time": "2022-07-31T11:39:37.735113",
     "status": "completed"
    },
    "tags": []
   },
   "source": [
    "# Content\n",
    "- [Data Review](#1)\n",
    "    - [DataTrain Review](#E1)\n",
    "    - [DataTest Review](#E2)\n",
    "- [Visualization](#2)\n",
    "- [Regression](#3)\n",
    "    - [Linear Regression](#R1)\n",
    "    - [Decision Tree Regression](#R2)\n",
    "    - [Random Forest Regression](#R3)\n",
    "    - [Evaluvation Regression Model](#R4)\n",
    "    - [Polinomial Linear Regression](#R5)"
   ]
  },
  {
   "cell_type": "code",
   "execution_count": 1,
   "id": "1065cd32",
   "metadata": {
    "_cell_guid": "b1076dfc-b9ad-4769-8c92-a6c4dae69d19",
    "_uuid": "8f2839f25d086af736a60e9eeb907d3b93b6e0e5",
    "execution": {
     "iopub.execute_input": "2022-07-31T11:39:37.784939Z",
     "iopub.status.busy": "2022-07-31T11:39:37.783909Z",
     "iopub.status.idle": "2022-07-31T11:39:38.882626Z",
     "shell.execute_reply": "2022-07-31T11:39:38.881285Z"
    },
    "papermill": {
     "duration": 1.118683,
     "end_time": "2022-07-31T11:39:38.885570",
     "exception": false,
     "start_time": "2022-07-31T11:39:37.766887",
     "status": "completed"
    },
    "tags": []
   },
   "outputs": [
    {
     "name": "stdout",
     "output_type": "stream",
     "text": [
      "/kaggle/input/random-linear-regression/train.csv\n",
      "/kaggle/input/random-linear-regression/test.csv\n"
     ]
    }
   ],
   "source": [
    "# This Python 3 environment comes with many helpful analytics libraries installed\n",
    "# It is defined by the kaggle/python Docker image: https://github.com/kaggle/docker-python\n",
    "# For example, here's several helpful packages to load\n",
    "\n",
    "import numpy as np # linear algebra\n",
    "import pandas as pd # data processing, CSV file I/O (e.g. pd.read_csv)\n",
    "import matplotlib.pyplot as plt\n",
    "import seaborn as sns\n",
    "\n",
    "# Input data files are available in the read-only \"../input/\" directory\n",
    "# For example, running this (by clicking run or pressing Shift+Enter) will list all files under the input directory\n",
    "\n",
    "import os\n",
    "for dirname, _, filenames in os.walk('/kaggle/input'):\n",
    "    for filename in filenames:\n",
    "        print(os.path.join(dirname, filename))\n",
    "\n",
    "# You can write up to 20GB to the current directory (/kaggle/working/) that gets preserved as output when you create a version using \"Save & Run All\" \n",
    "# You can also write temporary files to /kaggle/temp/, but they won't be saved outside of the current session"
   ]
  },
  {
   "cell_type": "markdown",
   "id": "5fb64307",
   "metadata": {
    "papermill": {
     "duration": 0.015276,
     "end_time": "2022-07-31T11:39:38.916752",
     "exception": false,
     "start_time": "2022-07-31T11:39:38.901476",
     "status": "completed"
    },
    "tags": []
   },
   "source": [
    "# Dataset Review (EDA) <a id = '1'></a>"
   ]
  },
  {
   "cell_type": "markdown",
   "id": "247c95c7",
   "metadata": {
    "papermill": {
     "duration": 0.015122,
     "end_time": "2022-07-31T11:39:38.947356",
     "exception": false,
     "start_time": "2022-07-31T11:39:38.932234",
     "status": "completed"
    },
    "tags": []
   },
   "source": [
    "In this notebook, I didn't have to did to the data review parth but I want to see the properties of data. If I know properties of data, I can know  use to which machine learning models and use which visualization code. In this part, I will analyze two columns. These two columns are data train and data test. Data train and Data test have the same column names. These names are x and y. The name of the x column is x and the name of the y column is y."
   ]
  },
  {
   "cell_type": "code",
   "execution_count": 2,
   "id": "64eb4b67",
   "metadata": {
    "execution": {
     "iopub.execute_input": "2022-07-31T11:39:38.981089Z",
     "iopub.status.busy": "2022-07-31T11:39:38.980295Z",
     "iopub.status.idle": "2022-07-31T11:39:39.002803Z",
     "shell.execute_reply": "2022-07-31T11:39:39.001912Z"
    },
    "papermill": {
     "duration": 0.042396,
     "end_time": "2022-07-31T11:39:39.005372",
     "exception": false,
     "start_time": "2022-07-31T11:39:38.962976",
     "status": "completed"
    },
    "tags": []
   },
   "outputs": [],
   "source": [
    "# Reading Date with Pandas Libs.\n",
    "DataTrain = pd.read_csv(\"/kaggle/input/random-linear-regression/train.csv\")\n",
    "DataTest = pd.read_csv(\"/kaggle/input/random-linear-regression/test.csv\")"
   ]
  },
  {
   "cell_type": "markdown",
   "id": "d67e15d7",
   "metadata": {
    "papermill": {
     "duration": 0.01573,
     "end_time": "2022-07-31T11:39:39.036486",
     "exception": false,
     "start_time": "2022-07-31T11:39:39.020756",
     "status": "completed"
    },
    "tags": []
   },
   "source": [
    "## DataTrain Review <a id = \"E1\"></a>\n",
    "In this chapter, I will analyze the DataTrain. I will look properties of the DataTrain."
   ]
  },
  {
   "cell_type": "code",
   "execution_count": 3,
   "id": "ec65cd53",
   "metadata": {
    "execution": {
     "iopub.execute_input": "2022-07-31T11:39:39.069146Z",
     "iopub.status.busy": "2022-07-31T11:39:39.068467Z",
     "iopub.status.idle": "2022-07-31T11:39:39.092162Z",
     "shell.execute_reply": "2022-07-31T11:39:39.090954Z"
    },
    "papermill": {
     "duration": 0.042868,
     "end_time": "2022-07-31T11:39:39.094666",
     "exception": false,
     "start_time": "2022-07-31T11:39:39.051798",
     "status": "completed"
    },
    "tags": []
   },
   "outputs": [
    {
     "data": {
      "text/html": [
       "<div>\n",
       "<style scoped>\n",
       "    .dataframe tbody tr th:only-of-type {\n",
       "        vertical-align: middle;\n",
       "    }\n",
       "\n",
       "    .dataframe tbody tr th {\n",
       "        vertical-align: top;\n",
       "    }\n",
       "\n",
       "    .dataframe thead th {\n",
       "        text-align: right;\n",
       "    }\n",
       "</style>\n",
       "<table border=\"1\" class=\"dataframe\">\n",
       "  <thead>\n",
       "    <tr style=\"text-align: right;\">\n",
       "      <th></th>\n",
       "      <th>x</th>\n",
       "      <th>y</th>\n",
       "    </tr>\n",
       "  </thead>\n",
       "  <tbody>\n",
       "    <tr>\n",
       "      <th>0</th>\n",
       "      <td>24.0</td>\n",
       "      <td>21.549452</td>\n",
       "    </tr>\n",
       "    <tr>\n",
       "      <th>1</th>\n",
       "      <td>50.0</td>\n",
       "      <td>47.464463</td>\n",
       "    </tr>\n",
       "    <tr>\n",
       "      <th>2</th>\n",
       "      <td>15.0</td>\n",
       "      <td>17.218656</td>\n",
       "    </tr>\n",
       "    <tr>\n",
       "      <th>3</th>\n",
       "      <td>38.0</td>\n",
       "      <td>36.586398</td>\n",
       "    </tr>\n",
       "    <tr>\n",
       "      <th>4</th>\n",
       "      <td>87.0</td>\n",
       "      <td>87.288984</td>\n",
       "    </tr>\n",
       "    <tr>\n",
       "      <th>...</th>\n",
       "      <td>...</td>\n",
       "      <td>...</td>\n",
       "    </tr>\n",
       "    <tr>\n",
       "      <th>695</th>\n",
       "      <td>58.0</td>\n",
       "      <td>58.595006</td>\n",
       "    </tr>\n",
       "    <tr>\n",
       "      <th>696</th>\n",
       "      <td>93.0</td>\n",
       "      <td>94.625094</td>\n",
       "    </tr>\n",
       "    <tr>\n",
       "      <th>697</th>\n",
       "      <td>82.0</td>\n",
       "      <td>88.603770</td>\n",
       "    </tr>\n",
       "    <tr>\n",
       "      <th>698</th>\n",
       "      <td>66.0</td>\n",
       "      <td>63.648685</td>\n",
       "    </tr>\n",
       "    <tr>\n",
       "      <th>699</th>\n",
       "      <td>97.0</td>\n",
       "      <td>94.975266</td>\n",
       "    </tr>\n",
       "  </tbody>\n",
       "</table>\n",
       "<p>700 rows × 2 columns</p>\n",
       "</div>"
      ],
      "text/plain": [
       "        x          y\n",
       "0    24.0  21.549452\n",
       "1    50.0  47.464463\n",
       "2    15.0  17.218656\n",
       "3    38.0  36.586398\n",
       "4    87.0  87.288984\n",
       "..    ...        ...\n",
       "695  58.0  58.595006\n",
       "696  93.0  94.625094\n",
       "697  82.0  88.603770\n",
       "698  66.0  63.648685\n",
       "699  97.0  94.975266\n",
       "\n",
       "[700 rows x 2 columns]"
      ]
     },
     "execution_count": 3,
     "metadata": {},
     "output_type": "execute_result"
    }
   ],
   "source": [
    "# Firstly I will look data of DataTrain.\n",
    "# Data of DataTrain \n",
    "DataTrain"
   ]
  },
  {
   "cell_type": "code",
   "execution_count": 4,
   "id": "c291fab4",
   "metadata": {
    "execution": {
     "iopub.execute_input": "2022-07-31T11:39:39.128353Z",
     "iopub.status.busy": "2022-07-31T11:39:39.127570Z",
     "iopub.status.idle": "2022-07-31T11:39:39.139335Z",
     "shell.execute_reply": "2022-07-31T11:39:39.138249Z"
    },
    "papermill": {
     "duration": 0.031429,
     "end_time": "2022-07-31T11:39:39.141738",
     "exception": false,
     "start_time": "2022-07-31T11:39:39.110309",
     "status": "completed"
    },
    "tags": []
   },
   "outputs": [
    {
     "data": {
      "text/html": [
       "<div>\n",
       "<style scoped>\n",
       "    .dataframe tbody tr th:only-of-type {\n",
       "        vertical-align: middle;\n",
       "    }\n",
       "\n",
       "    .dataframe tbody tr th {\n",
       "        vertical-align: top;\n",
       "    }\n",
       "\n",
       "    .dataframe thead th {\n",
       "        text-align: right;\n",
       "    }\n",
       "</style>\n",
       "<table border=\"1\" class=\"dataframe\">\n",
       "  <thead>\n",
       "    <tr style=\"text-align: right;\">\n",
       "      <th></th>\n",
       "      <th>x</th>\n",
       "      <th>y</th>\n",
       "    </tr>\n",
       "  </thead>\n",
       "  <tbody>\n",
       "    <tr>\n",
       "      <th>0</th>\n",
       "      <td>24.0</td>\n",
       "      <td>21.549452</td>\n",
       "    </tr>\n",
       "    <tr>\n",
       "      <th>1</th>\n",
       "      <td>50.0</td>\n",
       "      <td>47.464463</td>\n",
       "    </tr>\n",
       "    <tr>\n",
       "      <th>2</th>\n",
       "      <td>15.0</td>\n",
       "      <td>17.218656</td>\n",
       "    </tr>\n",
       "    <tr>\n",
       "      <th>3</th>\n",
       "      <td>38.0</td>\n",
       "      <td>36.586398</td>\n",
       "    </tr>\n",
       "    <tr>\n",
       "      <th>4</th>\n",
       "      <td>87.0</td>\n",
       "      <td>87.288984</td>\n",
       "    </tr>\n",
       "    <tr>\n",
       "      <th>5</th>\n",
       "      <td>36.0</td>\n",
       "      <td>32.463875</td>\n",
       "    </tr>\n",
       "    <tr>\n",
       "      <th>6</th>\n",
       "      <td>12.0</td>\n",
       "      <td>10.780897</td>\n",
       "    </tr>\n",
       "    <tr>\n",
       "      <th>7</th>\n",
       "      <td>81.0</td>\n",
       "      <td>80.763399</td>\n",
       "    </tr>\n",
       "    <tr>\n",
       "      <th>8</th>\n",
       "      <td>25.0</td>\n",
       "      <td>24.612151</td>\n",
       "    </tr>\n",
       "    <tr>\n",
       "      <th>9</th>\n",
       "      <td>5.0</td>\n",
       "      <td>6.963319</td>\n",
       "    </tr>\n",
       "  </tbody>\n",
       "</table>\n",
       "</div>"
      ],
      "text/plain": [
       "      x          y\n",
       "0  24.0  21.549452\n",
       "1  50.0  47.464463\n",
       "2  15.0  17.218656\n",
       "3  38.0  36.586398\n",
       "4  87.0  87.288984\n",
       "5  36.0  32.463875\n",
       "6  12.0  10.780897\n",
       "7  81.0  80.763399\n",
       "8  25.0  24.612151\n",
       "9   5.0   6.963319"
      ]
     },
     "execution_count": 4,
     "metadata": {},
     "output_type": "execute_result"
    }
   ],
   "source": [
    "# I will look top ten data of DataTrain.\n",
    "# DataTrain Top Ten Values\n",
    "DataTrain.head(10)"
   ]
  },
  {
   "cell_type": "markdown",
   "id": "2052dfc6",
   "metadata": {
    "papermill": {
     "duration": 0.016277,
     "end_time": "2022-07-31T11:39:39.174818",
     "exception": false,
     "start_time": "2022-07-31T11:39:39.158541",
     "status": "completed"
    },
    "tags": []
   },
   "source": [
    "This part is very important because You should know types of data values. Maybe This types can be a string and I don't want it to be a string. If The type is a string, I can get an error."
   ]
  },
  {
   "cell_type": "code",
   "execution_count": 5,
   "id": "5af96d45",
   "metadata": {
    "execution": {
     "iopub.execute_input": "2022-07-31T11:39:39.209617Z",
     "iopub.status.busy": "2022-07-31T11:39:39.209245Z",
     "iopub.status.idle": "2022-07-31T11:39:39.232033Z",
     "shell.execute_reply": "2022-07-31T11:39:39.230722Z"
    },
    "papermill": {
     "duration": 0.044186,
     "end_time": "2022-07-31T11:39:39.235124",
     "exception": false,
     "start_time": "2022-07-31T11:39:39.190938",
     "status": "completed"
    },
    "tags": []
   },
   "outputs": [
    {
     "name": "stdout",
     "output_type": "stream",
     "text": [
      "<class 'pandas.core.frame.DataFrame'>\n",
      "RangeIndex: 700 entries, 0 to 699\n",
      "Data columns (total 2 columns):\n",
      " #   Column  Non-Null Count  Dtype  \n",
      "---  ------  --------------  -----  \n",
      " 0   x       700 non-null    float64\n",
      " 1   y       699 non-null    float64\n",
      "dtypes: float64(2)\n",
      "memory usage: 11.1 KB\n"
     ]
    }
   ],
   "source": [
    "# İnformation of DataTrain\n",
    "DataTrain.info()"
   ]
  },
  {
   "cell_type": "code",
   "execution_count": 6,
   "id": "8fdd929d",
   "metadata": {
    "execution": {
     "iopub.execute_input": "2022-07-31T11:39:39.270778Z",
     "iopub.status.busy": "2022-07-31T11:39:39.270366Z",
     "iopub.status.idle": "2022-07-31T11:39:39.291992Z",
     "shell.execute_reply": "2022-07-31T11:39:39.290957Z"
    },
    "papermill": {
     "duration": 0.043115,
     "end_time": "2022-07-31T11:39:39.295242",
     "exception": false,
     "start_time": "2022-07-31T11:39:39.252127",
     "status": "completed"
    },
    "tags": []
   },
   "outputs": [
    {
     "data": {
      "text/html": [
       "<div>\n",
       "<style scoped>\n",
       "    .dataframe tbody tr th:only-of-type {\n",
       "        vertical-align: middle;\n",
       "    }\n",
       "\n",
       "    .dataframe tbody tr th {\n",
       "        vertical-align: top;\n",
       "    }\n",
       "\n",
       "    .dataframe thead th {\n",
       "        text-align: right;\n",
       "    }\n",
       "</style>\n",
       "<table border=\"1\" class=\"dataframe\">\n",
       "  <thead>\n",
       "    <tr style=\"text-align: right;\">\n",
       "      <th></th>\n",
       "      <th>x</th>\n",
       "      <th>y</th>\n",
       "    </tr>\n",
       "  </thead>\n",
       "  <tbody>\n",
       "    <tr>\n",
       "      <th>count</th>\n",
       "      <td>700.000000</td>\n",
       "      <td>699.000000</td>\n",
       "    </tr>\n",
       "    <tr>\n",
       "      <th>mean</th>\n",
       "      <td>54.985939</td>\n",
       "      <td>49.939869</td>\n",
       "    </tr>\n",
       "    <tr>\n",
       "      <th>std</th>\n",
       "      <td>134.681703</td>\n",
       "      <td>29.109217</td>\n",
       "    </tr>\n",
       "    <tr>\n",
       "      <th>min</th>\n",
       "      <td>0.000000</td>\n",
       "      <td>-3.839981</td>\n",
       "    </tr>\n",
       "    <tr>\n",
       "      <th>25%</th>\n",
       "      <td>25.000000</td>\n",
       "      <td>24.929968</td>\n",
       "    </tr>\n",
       "    <tr>\n",
       "      <th>50%</th>\n",
       "      <td>49.000000</td>\n",
       "      <td>48.973020</td>\n",
       "    </tr>\n",
       "    <tr>\n",
       "      <th>75%</th>\n",
       "      <td>75.000000</td>\n",
       "      <td>74.929911</td>\n",
       "    </tr>\n",
       "    <tr>\n",
       "      <th>max</th>\n",
       "      <td>3530.157369</td>\n",
       "      <td>108.871618</td>\n",
       "    </tr>\n",
       "  </tbody>\n",
       "</table>\n",
       "</div>"
      ],
      "text/plain": [
       "                 x           y\n",
       "count   700.000000  699.000000\n",
       "mean     54.985939   49.939869\n",
       "std     134.681703   29.109217\n",
       "min       0.000000   -3.839981\n",
       "25%      25.000000   24.929968\n",
       "50%      49.000000   48.973020\n",
       "75%      75.000000   74.929911\n",
       "max    3530.157369  108.871618"
      ]
     },
     "execution_count": 6,
     "metadata": {},
     "output_type": "execute_result"
    }
   ],
   "source": [
    "# Dataset Values(Max, min, std...)\n",
    "DataTrain.describe()"
   ]
  },
  {
   "cell_type": "markdown",
   "id": "6ba3d8d2",
   "metadata": {
    "papermill": {
     "duration": 0.015715,
     "end_time": "2022-07-31T11:39:39.327158",
     "exception": false,
     "start_time": "2022-07-31T11:39:39.311443",
     "status": "completed"
    },
    "tags": []
   },
   "source": [
    "I want to apply Regression models of Machine Learning and I should know data correlation. Data Correlation shows the relationship between data. I will explain this relationship."
   ]
  },
  {
   "cell_type": "code",
   "execution_count": 7,
   "id": "d761bda2",
   "metadata": {
    "execution": {
     "iopub.execute_input": "2022-07-31T11:39:39.362326Z",
     "iopub.status.busy": "2022-07-31T11:39:39.361478Z",
     "iopub.status.idle": "2022-07-31T11:39:39.374502Z",
     "shell.execute_reply": "2022-07-31T11:39:39.373548Z"
    },
    "papermill": {
     "duration": 0.033684,
     "end_time": "2022-07-31T11:39:39.376919",
     "exception": false,
     "start_time": "2022-07-31T11:39:39.343235",
     "status": "completed"
    },
    "tags": []
   },
   "outputs": [
    {
     "data": {
      "text/html": [
       "<div>\n",
       "<style scoped>\n",
       "    .dataframe tbody tr th:only-of-type {\n",
       "        vertical-align: middle;\n",
       "    }\n",
       "\n",
       "    .dataframe tbody tr th {\n",
       "        vertical-align: top;\n",
       "    }\n",
       "\n",
       "    .dataframe thead th {\n",
       "        text-align: right;\n",
       "    }\n",
       "</style>\n",
       "<table border=\"1\" class=\"dataframe\">\n",
       "  <thead>\n",
       "    <tr style=\"text-align: right;\">\n",
       "      <th></th>\n",
       "      <th>x</th>\n",
       "      <th>y</th>\n",
       "    </tr>\n",
       "  </thead>\n",
       "  <tbody>\n",
       "    <tr>\n",
       "      <th>x</th>\n",
       "      <td>1.00000</td>\n",
       "      <td>0.99534</td>\n",
       "    </tr>\n",
       "    <tr>\n",
       "      <th>y</th>\n",
       "      <td>0.99534</td>\n",
       "      <td>1.00000</td>\n",
       "    </tr>\n",
       "  </tbody>\n",
       "</table>\n",
       "</div>"
      ],
      "text/plain": [
       "         x        y\n",
       "x  1.00000  0.99534\n",
       "y  0.99534  1.00000"
      ]
     },
     "execution_count": 7,
     "metadata": {},
     "output_type": "execute_result"
    }
   ],
   "source": [
    "# Dataset Correlation: Relationship between columns\n",
    "DataTrain.corr()"
   ]
  },
  {
   "cell_type": "code",
   "execution_count": 8,
   "id": "662ce2c4",
   "metadata": {
    "execution": {
     "iopub.execute_input": "2022-07-31T11:39:39.412171Z",
     "iopub.status.busy": "2022-07-31T11:39:39.411586Z",
     "iopub.status.idle": "2022-07-31T11:39:39.667751Z",
     "shell.execute_reply": "2022-07-31T11:39:39.666795Z"
    },
    "papermill": {
     "duration": 0.276581,
     "end_time": "2022-07-31T11:39:39.670114",
     "exception": false,
     "start_time": "2022-07-31T11:39:39.393533",
     "status": "completed"
    },
    "tags": []
   },
   "outputs": [
    {
     "data": {
      "image/png": "[encoded data removed]",
      "text/plain": [
       "<Figure size 504x504 with 2 Axes>"
      ]
     },
     "metadata": {
      "needs_background": "light"
     },
     "output_type": "display_data"
    }
   ],
   "source": [
    "# Visualization of correlation results with seaborn library heatmap.\n",
    "f,ax=plt.subplots(figsize=(7,7))\n",
    "sns.heatmap(DataTrain.corr(),annot=True,linewidths=0.5,linecolor=\"red\",fmt=\".4f\",ax=ax)\n",
    "plt.show()"
   ]
  },
  {
   "cell_type": "code",
   "execution_count": 9,
   "id": "98e38a71",
   "metadata": {
    "execution": {
     "iopub.execute_input": "2022-07-31T11:39:39.706635Z",
     "iopub.status.busy": "2022-07-31T11:39:39.706209Z",
     "iopub.status.idle": "2022-07-31T11:39:41.473158Z",
     "shell.execute_reply": "2022-07-31T11:39:41.471924Z"
    },
    "papermill": {
     "duration": 1.788224,
     "end_time": "2022-07-31T11:39:41.475740",
     "exception": false,
     "start_time": "2022-07-31T11:39:39.687516",
     "status": "completed"
    },
    "tags": []
   },
   "outputs": [
    {
     "data": {
      "text/plain": [
       "<Figure size 720x720 with 0 Axes>"
      ]
     },
     "metadata": {},
     "output_type": "display_data"
    },
    {
     "data": {
      "image/png": "[encoded data removed]",
      "text/plain": [
       "<Figure size 360x360 with 6 Axes>"
      ]
     },
     "metadata": {
      "needs_background": "light"
     },
     "output_type": "display_data"
    }
   ],
   "source": [
    "# Visualization of correlation results with seaborn library pairplot.\n",
    "plt.figure(figsize=(10,10))\n",
    "sns.pairplot(DataTrain, kind=\"reg\")\n",
    "plt.show()"
   ]
  },
  {
   "cell_type": "code",
   "execution_count": 10,
   "id": "7980e809",
   "metadata": {
    "execution": {
     "iopub.execute_input": "2022-07-31T11:39:41.513205Z",
     "iopub.status.busy": "2022-07-31T11:39:41.512376Z",
     "iopub.status.idle": "2022-07-31T11:39:41.518498Z",
     "shell.execute_reply": "2022-07-31T11:39:41.517729Z"
    },
    "papermill": {
     "duration": 0.026921,
     "end_time": "2022-07-31T11:39:41.520521",
     "exception": false,
     "start_time": "2022-07-31T11:39:41.493600",
     "status": "completed"
    },
    "tags": []
   },
   "outputs": [
    {
     "data": {
      "text/plain": [
       "Index(['x', 'y'], dtype='object')"
      ]
     },
     "execution_count": 10,
     "metadata": {},
     "output_type": "execute_result"
    }
   ],
   "source": [
    "# Dataset Columns Names\n",
    "DataTrain.columns"
   ]
  },
  {
   "cell_type": "markdown",
   "id": "bdc8cec4",
   "metadata": {
    "papermill": {
     "duration": 0.016903,
     "end_time": "2022-07-31T11:39:41.554596",
     "exception": false,
     "start_time": "2022-07-31T11:39:41.537693",
     "status": "completed"
    },
    "tags": []
   },
   "source": [
    "## DataTest Review <a id = \"E2\"></a>"
   ]
  },
  {
   "cell_type": "code",
   "execution_count": 11,
   "id": "84b8aeb5",
   "metadata": {
    "execution": {
     "iopub.execute_input": "2022-07-31T11:39:41.591546Z",
     "iopub.status.busy": "2022-07-31T11:39:41.590809Z",
     "iopub.status.idle": "2022-07-31T11:39:41.602922Z",
     "shell.execute_reply": "2022-07-31T11:39:41.601836Z"
    },
    "papermill": {
     "duration": 0.033131,
     "end_time": "2022-07-31T11:39:41.605107",
     "exception": false,
     "start_time": "2022-07-31T11:39:41.571976",
     "status": "completed"
    },
    "tags": []
   },
   "outputs": [
    {
     "data": {
      "text/html": [
       "<div>\n",
       "<style scoped>\n",
       "    .dataframe tbody tr th:only-of-type {\n",
       "        vertical-align: middle;\n",
       "    }\n",
       "\n",
       "    .dataframe tbody tr th {\n",
       "        vertical-align: top;\n",
       "    }\n",
       "\n",
       "    .dataframe thead th {\n",
       "        text-align: right;\n",
       "    }\n",
       "</style>\n",
       "<table border=\"1\" class=\"dataframe\">\n",
       "  <thead>\n",
       "    <tr style=\"text-align: right;\">\n",
       "      <th></th>\n",
       "      <th>x</th>\n",
       "      <th>y</th>\n",
       "    </tr>\n",
       "  </thead>\n",
       "  <tbody>\n",
       "    <tr>\n",
       "      <th>0</th>\n",
       "      <td>77</td>\n",
       "      <td>79.775152</td>\n",
       "    </tr>\n",
       "    <tr>\n",
       "      <th>1</th>\n",
       "      <td>21</td>\n",
       "      <td>23.177279</td>\n",
       "    </tr>\n",
       "    <tr>\n",
       "      <th>2</th>\n",
       "      <td>22</td>\n",
       "      <td>25.609262</td>\n",
       "    </tr>\n",
       "    <tr>\n",
       "      <th>3</th>\n",
       "      <td>20</td>\n",
       "      <td>17.857388</td>\n",
       "    </tr>\n",
       "    <tr>\n",
       "      <th>4</th>\n",
       "      <td>36</td>\n",
       "      <td>41.849864</td>\n",
       "    </tr>\n",
       "    <tr>\n",
       "      <th>...</th>\n",
       "      <td>...</td>\n",
       "      <td>...</td>\n",
       "    </tr>\n",
       "    <tr>\n",
       "      <th>295</th>\n",
       "      <td>71</td>\n",
       "      <td>68.545888</td>\n",
       "    </tr>\n",
       "    <tr>\n",
       "      <th>296</th>\n",
       "      <td>46</td>\n",
       "      <td>47.334876</td>\n",
       "    </tr>\n",
       "    <tr>\n",
       "      <th>297</th>\n",
       "      <td>55</td>\n",
       "      <td>54.090637</td>\n",
       "    </tr>\n",
       "    <tr>\n",
       "      <th>298</th>\n",
       "      <td>62</td>\n",
       "      <td>63.297171</td>\n",
       "    </tr>\n",
       "    <tr>\n",
       "      <th>299</th>\n",
       "      <td>47</td>\n",
       "      <td>52.459467</td>\n",
       "    </tr>\n",
       "  </tbody>\n",
       "</table>\n",
       "<p>300 rows × 2 columns</p>\n",
       "</div>"
      ],
      "text/plain": [
       "      x          y\n",
       "0    77  79.775152\n",
       "1    21  23.177279\n",
       "2    22  25.609262\n",
       "3    20  17.857388\n",
       "4    36  41.849864\n",
       "..   ..        ...\n",
       "295  71  68.545888\n",
       "296  46  47.334876\n",
       "297  55  54.090637\n",
       "298  62  63.297171\n",
       "299  47  52.459467\n",
       "\n",
       "[300 rows x 2 columns]"
      ]
     },
     "execution_count": 11,
     "metadata": {},
     "output_type": "execute_result"
    }
   ],
   "source": [
    "# DataTrain\n",
    "DataTest"
   ]
  },
  {
   "cell_type": "code",
   "execution_count": 12,
   "id": "2dae09bb",
   "metadata": {
    "execution": {
     "iopub.execute_input": "2022-07-31T11:39:41.642064Z",
     "iopub.status.busy": "2022-07-31T11:39:41.641614Z",
     "iopub.status.idle": "2022-07-31T11:39:41.652704Z",
     "shell.execute_reply": "2022-07-31T11:39:41.651524Z"
    },
    "papermill": {
     "duration": 0.03268,
     "end_time": "2022-07-31T11:39:41.655250",
     "exception": false,
     "start_time": "2022-07-31T11:39:41.622570",
     "status": "completed"
    },
    "tags": []
   },
   "outputs": [
    {
     "data": {
      "text/html": [
       "<div>\n",
       "<style scoped>\n",
       "    .dataframe tbody tr th:only-of-type {\n",
       "        vertical-align: middle;\n",
       "    }\n",
       "\n",
       "    .dataframe tbody tr th {\n",
       "        vertical-align: top;\n",
       "    }\n",
       "\n",
       "    .dataframe thead th {\n",
       "        text-align: right;\n",
       "    }\n",
       "</style>\n",
       "<table border=\"1\" class=\"dataframe\">\n",
       "  <thead>\n",
       "    <tr style=\"text-align: right;\">\n",
       "      <th></th>\n",
       "      <th>x</th>\n",
       "      <th>y</th>\n",
       "    </tr>\n",
       "  </thead>\n",
       "  <tbody>\n",
       "    <tr>\n",
       "      <th>0</th>\n",
       "      <td>77</td>\n",
       "      <td>79.775152</td>\n",
       "    </tr>\n",
       "    <tr>\n",
       "      <th>1</th>\n",
       "      <td>21</td>\n",
       "      <td>23.177279</td>\n",
       "    </tr>\n",
       "    <tr>\n",
       "      <th>2</th>\n",
       "      <td>22</td>\n",
       "      <td>25.609262</td>\n",
       "    </tr>\n",
       "    <tr>\n",
       "      <th>3</th>\n",
       "      <td>20</td>\n",
       "      <td>17.857388</td>\n",
       "    </tr>\n",
       "    <tr>\n",
       "      <th>4</th>\n",
       "      <td>36</td>\n",
       "      <td>41.849864</td>\n",
       "    </tr>\n",
       "    <tr>\n",
       "      <th>5</th>\n",
       "      <td>15</td>\n",
       "      <td>9.805235</td>\n",
       "    </tr>\n",
       "    <tr>\n",
       "      <th>6</th>\n",
       "      <td>62</td>\n",
       "      <td>58.874659</td>\n",
       "    </tr>\n",
       "    <tr>\n",
       "      <th>7</th>\n",
       "      <td>95</td>\n",
       "      <td>97.617937</td>\n",
       "    </tr>\n",
       "    <tr>\n",
       "      <th>8</th>\n",
       "      <td>20</td>\n",
       "      <td>18.395127</td>\n",
       "    </tr>\n",
       "    <tr>\n",
       "      <th>9</th>\n",
       "      <td>5</td>\n",
       "      <td>8.746748</td>\n",
       "    </tr>\n",
       "  </tbody>\n",
       "</table>\n",
       "</div>"
      ],
      "text/plain": [
       "    x          y\n",
       "0  77  79.775152\n",
       "1  21  23.177279\n",
       "2  22  25.609262\n",
       "3  20  17.857388\n",
       "4  36  41.849864\n",
       "5  15   9.805235\n",
       "6  62  58.874659\n",
       "7  95  97.617937\n",
       "8  20  18.395127\n",
       "9   5   8.746748"
      ]
     },
     "execution_count": 12,
     "metadata": {},
     "output_type": "execute_result"
    }
   ],
   "source": [
    "# DataTest Top Ten Values\n",
    "DataTest.head(10)"
   ]
  },
  {
   "cell_type": "code",
   "execution_count": 13,
   "id": "cc0d4dde",
   "metadata": {
    "execution": {
     "iopub.execute_input": "2022-07-31T11:39:41.692782Z",
     "iopub.status.busy": "2022-07-31T11:39:41.691959Z",
     "iopub.status.idle": "2022-07-31T11:39:41.704829Z",
     "shell.execute_reply": "2022-07-31T11:39:41.703243Z"
    },
    "papermill": {
     "duration": 0.034562,
     "end_time": "2022-07-31T11:39:41.707376",
     "exception": false,
     "start_time": "2022-07-31T11:39:41.672814",
     "status": "completed"
    },
    "tags": []
   },
   "outputs": [
    {
     "name": "stdout",
     "output_type": "stream",
     "text": [
      "<class 'pandas.core.frame.DataFrame'>\n",
      "RangeIndex: 300 entries, 0 to 299\n",
      "Data columns (total 2 columns):\n",
      " #   Column  Non-Null Count  Dtype  \n",
      "---  ------  --------------  -----  \n",
      " 0   x       300 non-null    int64  \n",
      " 1   y       300 non-null    float64\n",
      "dtypes: float64(1), int64(1)\n",
      "memory usage: 4.8 KB\n"
     ]
    }
   ],
   "source": [
    "# İnformation of DataTest\n",
    "DataTest.info()"
   ]
  },
  {
   "cell_type": "code",
   "execution_count": 14,
   "id": "0e0842ec",
   "metadata": {
    "execution": {
     "iopub.execute_input": "2022-07-31T11:39:41.746044Z",
     "iopub.status.busy": "2022-07-31T11:39:41.744729Z",
     "iopub.status.idle": "2022-07-31T11:39:41.762113Z",
     "shell.execute_reply": "2022-07-31T11:39:41.761191Z"
    },
    "papermill": {
     "duration": 0.03872,
     "end_time": "2022-07-31T11:39:41.764350",
     "exception": false,
     "start_time": "2022-07-31T11:39:41.725630",
     "status": "completed"
    },
    "tags": []
   },
   "outputs": [
    {
     "data": {
      "text/html": [
       "<div>\n",
       "<style scoped>\n",
       "    .dataframe tbody tr th:only-of-type {\n",
       "        vertical-align: middle;\n",
       "    }\n",
       "\n",
       "    .dataframe tbody tr th {\n",
       "        vertical-align: top;\n",
       "    }\n",
       "\n",
       "    .dataframe thead th {\n",
       "        text-align: right;\n",
       "    }\n",
       "</style>\n",
       "<table border=\"1\" class=\"dataframe\">\n",
       "  <thead>\n",
       "    <tr style=\"text-align: right;\">\n",
       "      <th></th>\n",
       "      <th>x</th>\n",
       "      <th>y</th>\n",
       "    </tr>\n",
       "  </thead>\n",
       "  <tbody>\n",
       "    <tr>\n",
       "      <th>count</th>\n",
       "      <td>300.000000</td>\n",
       "      <td>300.000000</td>\n",
       "    </tr>\n",
       "    <tr>\n",
       "      <th>mean</th>\n",
       "      <td>50.936667</td>\n",
       "      <td>51.205051</td>\n",
       "    </tr>\n",
       "    <tr>\n",
       "      <th>std</th>\n",
       "      <td>28.504286</td>\n",
       "      <td>29.071481</td>\n",
       "    </tr>\n",
       "    <tr>\n",
       "      <th>min</th>\n",
       "      <td>0.000000</td>\n",
       "      <td>-3.467884</td>\n",
       "    </tr>\n",
       "    <tr>\n",
       "      <th>25%</th>\n",
       "      <td>27.000000</td>\n",
       "      <td>25.676502</td>\n",
       "    </tr>\n",
       "    <tr>\n",
       "      <th>50%</th>\n",
       "      <td>53.000000</td>\n",
       "      <td>52.170557</td>\n",
       "    </tr>\n",
       "    <tr>\n",
       "      <th>75%</th>\n",
       "      <td>73.000000</td>\n",
       "      <td>74.303007</td>\n",
       "    </tr>\n",
       "    <tr>\n",
       "      <th>max</th>\n",
       "      <td>100.000000</td>\n",
       "      <td>105.591837</td>\n",
       "    </tr>\n",
       "  </tbody>\n",
       "</table>\n",
       "</div>"
      ],
      "text/plain": [
       "                x           y\n",
       "count  300.000000  300.000000\n",
       "mean    50.936667   51.205051\n",
       "std     28.504286   29.071481\n",
       "min      0.000000   -3.467884\n",
       "25%     27.000000   25.676502\n",
       "50%     53.000000   52.170557\n",
       "75%     73.000000   74.303007\n",
       "max    100.000000  105.591837"
      ]
     },
     "execution_count": 14,
     "metadata": {},
     "output_type": "execute_result"
    }
   ],
   "source": [
    "# Dataset Values(Max, min, std...)\n",
    "DataTest.describe()"
   ]
  },
  {
   "cell_type": "code",
   "execution_count": 15,
   "id": "f7e6c98a",
   "metadata": {
    "execution": {
     "iopub.execute_input": "2022-07-31T11:39:41.802639Z",
     "iopub.status.busy": "2022-07-31T11:39:41.801822Z",
     "iopub.status.idle": "2022-07-31T11:39:41.811966Z",
     "shell.execute_reply": "2022-07-31T11:39:41.811109Z"
    },
    "papermill": {
     "duration": 0.031638,
     "end_time": "2022-07-31T11:39:41.814103",
     "exception": false,
     "start_time": "2022-07-31T11:39:41.782465",
     "status": "completed"
    },
    "tags": []
   },
   "outputs": [
    {
     "data": {
      "text/html": [
       "<div>\n",
       "<style scoped>\n",
       "    .dataframe tbody tr th:only-of-type {\n",
       "        vertical-align: middle;\n",
       "    }\n",
       "\n",
       "    .dataframe tbody tr th {\n",
       "        vertical-align: top;\n",
       "    }\n",
       "\n",
       "    .dataframe thead th {\n",
       "        text-align: right;\n",
       "    }\n",
       "</style>\n",
       "<table border=\"1\" class=\"dataframe\">\n",
       "  <thead>\n",
       "    <tr style=\"text-align: right;\">\n",
       "      <th></th>\n",
       "      <th>x</th>\n",
       "      <th>y</th>\n",
       "    </tr>\n",
       "  </thead>\n",
       "  <tbody>\n",
       "    <tr>\n",
       "      <th>x</th>\n",
       "      <td>1.000000</td>\n",
       "      <td>0.994545</td>\n",
       "    </tr>\n",
       "    <tr>\n",
       "      <th>y</th>\n",
       "      <td>0.994545</td>\n",
       "      <td>1.000000</td>\n",
       "    </tr>\n",
       "  </tbody>\n",
       "</table>\n",
       "</div>"
      ],
      "text/plain": [
       "          x         y\n",
       "x  1.000000  0.994545\n",
       "y  0.994545  1.000000"
      ]
     },
     "execution_count": 15,
     "metadata": {},
     "output_type": "execute_result"
    }
   ],
   "source": [
    "# Dataset Correlation: Relationship between columns\n",
    "DataTest.corr()"
   ]
  },
  {
   "cell_type": "code",
   "execution_count": 16,
   "id": "18865fd8",
   "metadata": {
    "execution": {
     "iopub.execute_input": "2022-07-31T11:39:41.852754Z",
     "iopub.status.busy": "2022-07-31T11:39:41.852007Z",
     "iopub.status.idle": "2022-07-31T11:39:42.078032Z",
     "shell.execute_reply": "2022-07-31T11:39:42.077213Z"
    },
    "papermill": {
     "duration": 0.24808,
     "end_time": "2022-07-31T11:39:42.080433",
     "exception": false,
     "start_time": "2022-07-31T11:39:41.832353",
     "status": "completed"
    },
    "tags": []
   },
   "outputs": [
    {
     "data": {
      "image/png": "[encoded data removed]",
      "text/plain": [
       "<Figure size 504x504 with 2 Axes>"
      ]
     },
     "metadata": {
      "needs_background": "light"
     },
     "output_type": "display_data"
    }
   ],
   "source": [
    "# Visualization of correlation results with seaborn library heatmap.\n",
    "f,ax=plt.subplots(figsize=(7,7))\n",
    "sns.heatmap(DataTest.corr(),annot=True,linewidths=0.5,linecolor=\"red\",fmt=\".4f\",ax=ax)\n",
    "plt.show()"
   ]
  },
  {
   "cell_type": "code",
   "execution_count": 17,
   "id": "0e228c1e",
   "metadata": {
    "execution": {
     "iopub.execute_input": "2022-07-31T11:39:42.119953Z",
     "iopub.status.busy": "2022-07-31T11:39:42.119175Z",
     "iopub.status.idle": "2022-07-31T11:39:43.384538Z",
     "shell.execute_reply": "2022-07-31T11:39:43.383747Z"
    },
    "papermill": {
     "duration": 1.287989,
     "end_time": "2022-07-31T11:39:43.387103",
     "exception": false,
     "start_time": "2022-07-31T11:39:42.099114",
     "status": "completed"
    },
    "tags": []
   },
   "outputs": [
    {
     "data": {
      "text/plain": [
       "<Figure size 720x720 with 0 Axes>"
      ]
     },
     "metadata": {},
     "output_type": "display_data"
    },
    {
     "data": {
      "image/png": "[encoded data removed]",
      "text/plain": [
       "<Figure size 360x360 with 6 Axes>"
      ]
     },
     "metadata": {
      "needs_background": "light"
     },
     "output_type": "display_data"
    }
   ],
   "source": [
    "# Visualization of correlation results with seaborn library pairplot.\n",
    "plt.figure(figsize=(10,10))\n",
    "sns.pairplot(DataTest, kind=\"reg\")\n",
    "plt.show()"
   ]
  },
  {
   "cell_type": "code",
   "execution_count": 18,
   "id": "b9c411f1",
   "metadata": {
    "execution": {
     "iopub.execute_input": "2022-07-31T11:39:43.427558Z",
     "iopub.status.busy": "2022-07-31T11:39:43.426744Z",
     "iopub.status.idle": "2022-07-31T11:39:43.433984Z",
     "shell.execute_reply": "2022-07-31T11:39:43.433028Z"
    },
    "papermill": {
     "duration": 0.029936,
     "end_time": "2022-07-31T11:39:43.436295",
     "exception": false,
     "start_time": "2022-07-31T11:39:43.406359",
     "status": "completed"
    },
    "tags": []
   },
   "outputs": [
    {
     "data": {
      "text/plain": [
       "Index(['x', 'y'], dtype='object')"
      ]
     },
     "execution_count": 18,
     "metadata": {},
     "output_type": "execute_result"
    }
   ],
   "source": [
    "# Dataset Columns Names\n",
    "DataTest.columns"
   ]
  },
  {
   "cell_type": "markdown",
   "id": "4a65550b",
   "metadata": {
    "papermill": {
     "duration": 0.019526,
     "end_time": "2022-07-31T11:39:43.474970",
     "exception": false,
     "start_time": "2022-07-31T11:39:43.455444",
     "status": "completed"
    },
    "tags": []
   },
   "source": [
    "## End Data Review\n",
    "I finished the data review. The reason I'm doing this is to get an overview of the dataset and get to the idea. "
   ]
  },
  {
   "cell_type": "markdown",
   "id": "5fa59d7f",
   "metadata": {
    "papermill": {
     "duration": 0.019215,
     "end_time": "2022-07-31T11:39:43.513701",
     "exception": false,
     "start_time": "2022-07-31T11:39:43.494486",
     "status": "completed"
    },
    "tags": []
   },
   "source": [
    "# Visualization <a id = \"2\"></a>\n",
    "I will visualise DataTrain and DataTest. I will use the matplotlib library for visualization. "
   ]
  },
  {
   "cell_type": "code",
   "execution_count": 19,
   "id": "b83610d3",
   "metadata": {
    "execution": {
     "iopub.execute_input": "2022-07-31T11:39:43.554777Z",
     "iopub.status.busy": "2022-07-31T11:39:43.553984Z",
     "iopub.status.idle": "2022-07-31T11:39:43.753527Z",
     "shell.execute_reply": "2022-07-31T11:39:43.752389Z"
    },
    "papermill": {
     "duration": 0.222936,
     "end_time": "2022-07-31T11:39:43.756003",
     "exception": false,
     "start_time": "2022-07-31T11:39:43.533067",
     "status": "completed"
    },
    "tags": []
   },
   "outputs": [
    {
     "data": {
      "image/png": "[encoded data removed]",
      "text/plain": [
       "<Figure size 504x504 with 1 Axes>"
      ]
     },
     "metadata": {
      "needs_background": "light"
     },
     "output_type": "display_data"
    }
   ],
   "source": [
    "# I am visualizing the DataTrain columns. I am visualizing the relationship between the x and y columns.\n",
    "x = DataTrain[\"x\"]\n",
    "y = DataTrain[\"y\"]\n",
    "#Graph\n",
    "plt.figure(figsize=[7,7]) \n",
    "plt.scatter(x=x,y=y) \n",
    "plt.xlabel('X')\n",
    "plt.ylabel('Y')\n",
    "plt.show()"
   ]
  },
  {
   "cell_type": "code",
   "execution_count": 20,
   "id": "b11dbc18",
   "metadata": {
    "execution": {
     "iopub.execute_input": "2022-07-31T11:39:43.797925Z",
     "iopub.status.busy": "2022-07-31T11:39:43.797197Z",
     "iopub.status.idle": "2022-07-31T11:39:43.994287Z",
     "shell.execute_reply": "2022-07-31T11:39:43.993086Z"
    },
    "papermill": {
     "duration": 0.221409,
     "end_time": "2022-07-31T11:39:43.996991",
     "exception": false,
     "start_time": "2022-07-31T11:39:43.775582",
     "status": "completed"
    },
    "tags": []
   },
   "outputs": [
    {
     "data": {
      "image/png": "[encoded data removed]",
      "text/plain": [
       "<Figure size 504x504 with 1 Axes>"
      ]
     },
     "metadata": {
      "needs_background": "light"
     },
     "output_type": "display_data"
    }
   ],
   "source": [
    "# I am visualizing the DataTest columns. I am visualizing the relationship between the x and y columns.\n",
    "x = DataTest[\"x\"]\n",
    "y = DataTest[\"y\"]\n",
    "#Graph\n",
    "plt.figure(figsize=[7,7]) \n",
    "plt.scatter(x=x,y=y) \n",
    "plt.xlabel('X')\n",
    "plt.ylabel('Y')\n",
    "plt.show()"
   ]
  },
  {
   "cell_type": "markdown",
   "id": "21816091",
   "metadata": {
    "papermill": {
     "duration": 0.019638,
     "end_time": "2022-07-31T11:39:44.036822",
     "exception": false,
     "start_time": "2022-07-31T11:39:44.017184",
     "status": "completed"
    },
    "tags": []
   },
   "source": [
    "# Regression <a id = \"3\"></a>\n",
    "In this part, I will apply the regression models to the dataset. I listed to will apply models. I will explain information about models at the under of the topic about the model.<br>\n",
    "\n",
    "Models of I Will Use:\n",
    "- Linear Regression\n",
    "- Decision Tree Regression\n",
    "- Random Forest Regression\n",
    "- Evaluation Regression\n",
    "- Polinomial Linear Regression"
   ]
  },
  {
   "cell_type": "code",
   "execution_count": 21,
   "id": "3bb96c8d",
   "metadata": {
    "execution": {
     "iopub.execute_input": "2022-07-31T11:39:44.078335Z",
     "iopub.status.busy": "2022-07-31T11:39:44.077969Z",
     "iopub.status.idle": "2022-07-31T11:39:44.502639Z",
     "shell.execute_reply": "2022-07-31T11:39:44.501405Z"
    },
    "papermill": {
     "duration": 0.448831,
     "end_time": "2022-07-31T11:39:44.505484",
     "exception": false,
     "start_time": "2022-07-31T11:39:44.056653",
     "status": "completed"
    },
    "tags": []
   },
   "outputs": [],
   "source": [
    "# I am importing models.\n",
    "from sklearn.linear_model import LinearRegression\n",
    "from sklearn.tree import DecisionTreeRegressor\n",
    "from sklearn.ensemble import RandomForestRegressor\n",
    "from sklearn.preprocessing import PolynomialFeatures"
   ]
  },
  {
   "cell_type": "code",
   "execution_count": 22,
   "id": "1d301a6a",
   "metadata": {
    "execution": {
     "iopub.execute_input": "2022-07-31T11:39:44.548699Z",
     "iopub.status.busy": "2022-07-31T11:39:44.548329Z",
     "iopub.status.idle": "2022-07-31T11:39:44.557380Z",
     "shell.execute_reply": "2022-07-31T11:39:44.556435Z"
    },
    "papermill": {
     "duration": 0.033812,
     "end_time": "2022-07-31T11:39:44.559734",
     "exception": false,
     "start_time": "2022-07-31T11:39:44.525922",
     "status": "completed"
    },
    "tags": []
   },
   "outputs": [],
   "source": [
    "# I drop nan values in DataTrain and DataTest.\n",
    "DataTrain = DataTrain.dropna()\n",
    "DataTest = DataTest.dropna()"
   ]
  },
  {
   "cell_type": "code",
   "execution_count": 23,
   "id": "cf2319c8",
   "metadata": {
    "execution": {
     "iopub.execute_input": "2022-07-31T11:39:44.602426Z",
     "iopub.status.busy": "2022-07-31T11:39:44.601668Z",
     "iopub.status.idle": "2022-07-31T11:39:44.610966Z",
     "shell.execute_reply": "2022-07-31T11:39:44.610026Z"
    },
    "papermill": {
     "duration": 0.034036,
     "end_time": "2022-07-31T11:39:44.613635",
     "exception": false,
     "start_time": "2022-07-31T11:39:44.579599",
     "status": "completed"
    },
    "tags": []
   },
   "outputs": [],
   "source": [
    "# I specify to values of test and train.\n",
    "x_train = np.array(DataTrain.loc[:,'x']).reshape(-1,1)\n",
    "y_train = np.array(DataTrain.loc[:,'y']).reshape(-1,1)\n",
    "x_test = np.array(DataTest.loc[:,'x']).reshape(-1,1)\n",
    "y_test = np.array(DataTest.loc[:,'y']).reshape(-1,1)\n",
    "\n",
    "# In this code, When I calculate the mean square error, I will use this code.\n",
    "theta = np.matmul(np.linalg.inv( np.matmul(x_train.T, x_train)), np.matmul(x_train.T, y_train))"
   ]
  },
  {
   "cell_type": "markdown",
   "id": "f57f677f",
   "metadata": {
    "papermill": {
     "duration": 0.020902,
     "end_time": "2022-07-31T11:39:44.654613",
     "exception": false,
     "start_time": "2022-07-31T11:39:44.633711",
     "status": "completed"
    },
    "tags": []
   },
   "source": [
    "## Linear Regression <a id = \"R1\"></a>"
   ]
  },
  {
   "cell_type": "markdown",
   "id": "cb7bda1e",
   "metadata": {
    "papermill": {
     "duration": 0.019734,
     "end_time": "2022-07-31T11:39:44.695173",
     "exception": false,
     "start_time": "2022-07-31T11:39:44.675439",
     "status": "completed"
    },
    "tags": []
   },
   "source": [
    "**What is the Linear Regression?**<br>\n",
    "Linear regression attempts to model the relationship between two variables by fitting a linear equation to observed data. One variable is considered to be an explanatory variable, and the other is considered to be a dependent variable. For example, a modeler might want to relate the weights of individuals to their heights using a linear regression model.<br>\n",
    "I will apply the Linear Regression model of Machine learning to this dataset and I will look result."
   ]
  },
  {
   "cell_type": "code",
   "execution_count": 24,
   "id": "c74b1a75",
   "metadata": {
    "execution": {
     "iopub.execute_input": "2022-07-31T11:39:44.737860Z",
     "iopub.status.busy": "2022-07-31T11:39:44.737081Z",
     "iopub.status.idle": "2022-07-31T11:39:44.969350Z",
     "shell.execute_reply": "2022-07-31T11:39:44.967715Z"
    },
    "papermill": {
     "duration": 0.257254,
     "end_time": "2022-07-31T11:39:44.972452",
     "exception": false,
     "start_time": "2022-07-31T11:39:44.715198",
     "status": "completed"
    },
    "tags": []
   },
   "outputs": [
    {
     "data": {
      "image/png": "[encoded data removed]",
      "text/plain": [
       "<Figure size 720x720 with 1 Axes>"
      ]
     },
     "metadata": {
      "needs_background": "light"
     },
     "output_type": "display_data"
    }
   ],
   "source": [
    "# Import LinearRegression\n",
    "LinReg = LinearRegression()\n",
    "\n",
    "# Training with x values and y values\n",
    "LinReg.fit(x_train,y_train)\n",
    "\n",
    "# Predict_space\n",
    "# We generate numbers between the smallest and largest numbers in x data.\n",
    "predic_npspace = np.linspace(min(x_test), max(x_test)).reshape(-1,1)\n",
    "\n",
    "#Predict\n",
    "# We make predictions with the random numbers we produce.\n",
    "predicted = LinReg.predict(predic_npspace)\n",
    "\n",
    "# Plot regression line and scatter\n",
    "plt.figure(figsize = (10,10))\n",
    "plt.plot(predic_npspace, predicted, color = \"black\", linewidth = 3)\n",
    "plt.scatter(x = x_train, y = y_train)\n",
    "plt.xlabel(\"X_train\")\n",
    "plt.ylabel(\"Y_train\")\n",
    "plt.show()\n"
   ]
  },
  {
   "cell_type": "code",
   "execution_count": 25,
   "id": "8416bd08",
   "metadata": {
    "execution": {
     "iopub.execute_input": "2022-07-31T11:39:45.015230Z",
     "iopub.status.busy": "2022-07-31T11:39:45.014808Z",
     "iopub.status.idle": "2022-07-31T11:39:45.021548Z",
     "shell.execute_reply": "2022-07-31T11:39:45.020745Z"
    },
    "papermill": {
     "duration": 0.030442,
     "end_time": "2022-07-31T11:39:45.023551",
     "exception": false,
     "start_time": "2022-07-31T11:39:44.993109",
     "status": "completed"
    },
    "tags": []
   },
   "outputs": [
    {
     "data": {
      "text/plain": [
       "array([[44.92227172]])"
      ]
     },
     "execution_count": 25,
     "metadata": {},
     "output_type": "execute_result"
    }
   ],
   "source": [
    "# I'm looking at what the desired value will return.\n",
    "LinReg.predict([[45]])"
   ]
  },
  {
   "cell_type": "code",
   "execution_count": 26,
   "id": "2c51b870",
   "metadata": {
    "execution": {
     "iopub.execute_input": "2022-07-31T11:39:45.066968Z",
     "iopub.status.busy": "2022-07-31T11:39:45.065964Z",
     "iopub.status.idle": "2022-07-31T11:39:45.088469Z",
     "shell.execute_reply": "2022-07-31T11:39:45.087209Z"
    },
    "papermill": {
     "duration": 0.046673,
     "end_time": "2022-07-31T11:39:45.090705",
     "exception": false,
     "start_time": "2022-07-31T11:39:45.044032",
     "status": "completed"
    },
    "tags": []
   },
   "outputs": [
    {
     "name": "stdout",
     "output_type": "stream",
     "text": [
      "Resut: index(0) [0.] : [[-0.10726546]]\n",
      "Resut: index(1) [2.04081633] : [[1.93489042]]\n",
      "Resut: index(2) [4.08163265] : [[3.9770463]]\n",
      "Resut: index(3) [6.12244898] : [[6.01920218]]\n",
      "Resut: index(4) [8.16326531] : [[8.06135806]]\n",
      "Resut: index(5) [10.20408163] : [[10.10351394]]\n",
      "Resut: index(6) [12.24489796] : [[12.14566982]]\n",
      "Resut: index(7) [14.28571429] : [[14.18782571]]\n",
      "Resut: index(8) [16.32653061] : [[16.22998159]]\n",
      "Resut: index(9) [18.36734694] : [[18.27213747]]\n",
      "Resut: index(10) [20.40816327] : [[20.31429335]]\n",
      "Resut: index(11) [22.44897959] : [[22.35644923]]\n",
      "Resut: index(12) [24.48979592] : [[24.39860511]]\n",
      "Resut: index(13) [26.53061224] : [[26.44076099]]\n",
      "Resut: index(14) [28.57142857] : [[28.48291687]]\n",
      "Resut: index(15) [30.6122449] : [[30.52507276]]\n",
      "Resut: index(16) [32.65306122] : [[32.56722864]]\n",
      "Resut: index(17) [34.69387755] : [[34.60938452]]\n",
      "Resut: index(18) [36.73469388] : [[36.6515404]]\n",
      "Resut: index(19) [38.7755102] : [[38.69369628]]\n",
      "Resut: index(20) [40.81632653] : [[40.73585216]]\n",
      "Resut: index(21) [42.85714286] : [[42.77800804]]\n",
      "Resut: index(22) [44.89795918] : [[44.82016393]]\n",
      "Resut: index(23) [46.93877551] : [[46.86231981]]\n",
      "Resut: index(24) [48.97959184] : [[48.90447569]]\n",
      "Resut: index(25) [51.02040816] : [[50.94663157]]\n",
      "Resut: index(26) [53.06122449] : [[52.98878745]]\n",
      "Resut: index(27) [55.10204082] : [[55.03094333]]\n",
      "Resut: index(28) [57.14285714] : [[57.07309921]]\n",
      "Resut: index(29) [59.18367347] : [[59.11525509]]\n",
      "Resut: index(30) [61.2244898] : [[61.15741098]]\n",
      "Resut: index(31) [63.26530612] : [[63.19956686]]\n",
      "Resut: index(32) [65.30612245] : [[65.24172274]]\n",
      "Resut: index(33) [67.34693878] : [[67.28387862]]\n",
      "Resut: index(34) [69.3877551] : [[69.3260345]]\n",
      "Resut: index(35) [71.42857143] : [[71.36819038]]\n",
      "Resut: index(36) [73.46938776] : [[73.41034626]]\n",
      "Resut: index(37) [75.51020408] : [[75.45250215]]\n",
      "Resut: index(38) [77.55102041] : [[77.49465803]]\n",
      "Resut: index(39) [79.59183673] : [[79.53681391]]\n",
      "Resut: index(40) [81.63265306] : [[81.57896979]]\n",
      "Resut: index(41) [83.67346939] : [[83.62112567]]\n",
      "Resut: index(42) [85.71428571] : [[85.66328155]]\n",
      "Resut: index(43) [87.75510204] : [[87.70543743]]\n",
      "Resut: index(44) [89.79591837] : [[89.74759331]]\n",
      "Resut: index(45) [91.83673469] : [[91.7897492]]\n",
      "Resut: index(46) [93.87755102] : [[93.83190508]]\n",
      "Resut: index(47) [95.91836735] : [[95.87406096]]\n",
      "Resut: index(48) [97.95918367] : [[97.91621684]]\n",
      "Resut: index(49) [100.] : [[99.95837272]]\n"
     ]
    }
   ],
   "source": [
    "# In this part, I constitute a loop with 'for' and I look at the predic_npspace and its results.\n",
    "for i in range(0,len(predic_npspace)):\n",
    "    LinRegPredictResult = LinReg.predict([[predic_npspace[i][0]]])\n",
    "    print(\"Resut: index({0}) {1} : {2}\".format(i, predic_npspace[i], LinRegPredictResult))"
   ]
  },
  {
   "cell_type": "markdown",
   "id": "bc19a164",
   "metadata": {
    "papermill": {
     "duration": 0.020561,
     "end_time": "2022-07-31T11:39:45.132777",
     "exception": false,
     "start_time": "2022-07-31T11:39:45.112216",
     "status": "completed"
    },
    "tags": []
   },
   "source": [
    "In the two codes below, I looked mean square error and r square. First code, I didn't use another model for the calculation error. I calculated MSE and R_square without a model. Second code, I use the mean_squared_error model for the calculation error."
   ]
  },
  {
   "cell_type": "code",
   "execution_count": 27,
   "id": "a8c45bfe",
   "metadata": {
    "execution": {
     "iopub.execute_input": "2022-07-31T11:39:45.177059Z",
     "iopub.status.busy": "2022-07-31T11:39:45.176610Z",
     "iopub.status.idle": "2022-07-31T11:39:45.185095Z",
     "shell.execute_reply": "2022-07-31T11:39:45.183794Z"
    },
    "papermill": {
     "duration": 0.034036,
     "end_time": "2022-07-31T11:39:45.187721",
     "exception": false,
     "start_time": "2022-07-31T11:39:45.153685",
     "status": "completed"
    },
    "tags": []
   },
   "outputs": [
    {
     "name": "stdout",
     "output_type": "stream",
     "text": [
      "The Mean Square Error(MSE) or j(thate) is:  9.453863678379564\n",
      "R square obtain for normal equation method is:  0.9887765831656253\n"
     ]
    }
   ],
   "source": [
    "# Normal equation\n",
    "y_Norm = np.matmul(x_test, theta)\n",
    "\n",
    "# Evaluvation: MSE\n",
    "MSE = np.sum((y_Norm - y_test)**2)/ x_test.shape[0]\n",
    "\n",
    "# R_square\n",
    "sse = np.sum((y_Norm - y_test)**2)\n",
    "sst = np.sum((y_test - y_test.mean())**2)\n",
    "R_square = 1 - (sse/sst)\n",
    "\n",
    "print(\"The Mean Square Error(MSE) or j(thate) is: \",MSE)\n",
    "print(\"R square obtain for normal equation method is: \",R_square)"
   ]
  },
  {
   "cell_type": "code",
   "execution_count": 28,
   "id": "78b14622",
   "metadata": {
    "execution": {
     "iopub.execute_input": "2022-07-31T11:39:45.231774Z",
     "iopub.status.busy": "2022-07-31T11:39:45.231368Z",
     "iopub.status.idle": "2022-07-31T11:39:45.240419Z",
     "shell.execute_reply": "2022-07-31T11:39:45.238944Z"
    },
    "papermill": {
     "duration": 0.035346,
     "end_time": "2022-07-31T11:39:45.244381",
     "exception": false,
     "start_time": "2022-07-31T11:39:45.209035",
     "status": "completed"
    },
    "tags": []
   },
   "outputs": [
    {
     "name": "stdout",
     "output_type": "stream",
     "text": [
      "The Mean Square Error(MSE) or j(thate) is:  9.432922192039305\n",
      "R square obtain for normal equation method is:  0.9888014444327563\n"
     ]
    }
   ],
   "source": [
    "# sklearn regression module\n",
    "X_pred = LinReg.predict(x_test)\n",
    "\n",
    "#Evaluvation: MSE\n",
    "from sklearn.metrics import mean_squared_error\n",
    "Sk_mean = mean_squared_error(X_pred, y_test)\n",
    "\n",
    "# R_square\n",
    "R_square_sk = LinReg.score(x_test,y_test)\n",
    "print(\"The Mean Square Error(MSE) or j(thate) is: \",Sk_mean)\n",
    "print(\"R square obtain for normal equation method is: \",R_square_sk)"
   ]
  },
  {
   "cell_type": "markdown",
   "id": "29835f62",
   "metadata": {
    "papermill": {
     "duration": 0.021809,
     "end_time": "2022-07-31T11:39:45.287854",
     "exception": false,
     "start_time": "2022-07-31T11:39:45.266045",
     "status": "completed"
    },
    "tags": []
   },
   "source": [
    "## Decision Tree Regression <a id = \"R2\"></a>"
   ]
  },
  {
   "cell_type": "markdown",
   "id": "a45379c5",
   "metadata": {
    "papermill": {
     "duration": 0.020835,
     "end_time": "2022-07-31T11:39:45.330278",
     "exception": false,
     "start_time": "2022-07-31T11:39:45.309443",
     "status": "completed"
    },
    "tags": []
   },
   "source": [
    "**What is the Decision Tree Regression?**\n",
    "<p>Decision tree builds regression or classification models in the form of a tree structure. It breaks down a dataset into smaller and smaller subsets while at the same time an associated decision tree is incrementally developed. The final result is a tree with decision nodes and leaf nodes.</p>\n",
    "In this part, I will apply the Decision Tree Regression model of Machine Learning to the dataset and I will look result.\n"
   ]
  },
  {
   "cell_type": "code",
   "execution_count": 29,
   "id": "02d394d2",
   "metadata": {
    "execution": {
     "iopub.execute_input": "2022-07-31T11:39:45.374756Z",
     "iopub.status.busy": "2022-07-31T11:39:45.374404Z",
     "iopub.status.idle": "2022-07-31T11:39:45.601720Z",
     "shell.execute_reply": "2022-07-31T11:39:45.600482Z"
    },
    "papermill": {
     "duration": 0.252562,
     "end_time": "2022-07-31T11:39:45.604277",
     "exception": false,
     "start_time": "2022-07-31T11:39:45.351715",
     "status": "completed"
    },
    "tags": []
   },
   "outputs": [
    {
     "data": {
      "image/png": "[encoded data removed]",
      "text/plain": [
       "<Figure size 720x720 with 1 Axes>"
      ]
     },
     "metadata": {
      "needs_background": "light"
     },
     "output_type": "display_data"
    }
   ],
   "source": [
    "# Import DecisionTreeRegressor\n",
    "DesTreeReg = DecisionTreeRegressor()\n",
    "\n",
    "# Training with x values and y values\n",
    "DesTreeReg.fit(x_train,y_train)\n",
    "\n",
    "# Predict_space\n",
    "# We generate numbers between the smallest and largest numbers in x data.\n",
    "predic_npspace_Des = np.linspace(min(x_test), max(x_test)).reshape(-1,1)\n",
    "\n",
    "#Predict\n",
    "# We make predictions with the random numbers we produce.\n",
    "predicted_Des = DesTreeReg.predict(predic_npspace_Des)\n",
    "\n",
    "# Plot regression line and scatter\n",
    "plt.figure(figsize = (10,10))\n",
    "plt.plot(predic_npspace_Des, predicted_Des, color = \"black\", linewidth = 3)\n",
    "plt.scatter(x = x_train, y = y_train)\n",
    "plt.xlabel(\"X_train\")\n",
    "plt.ylabel(\"Y_train\")\n",
    "plt.show()"
   ]
  },
  {
   "cell_type": "markdown",
   "id": "328ad45f",
   "metadata": {
    "papermill": {
     "duration": 0.021739,
     "end_time": "2022-07-31T11:39:45.649235",
     "exception": false,
     "start_time": "2022-07-31T11:39:45.627496",
     "status": "completed"
    },
    "tags": []
   },
   "source": [
    "In this code, I use different visualization for explaining my Training result. It generally used this visualization."
   ]
  },
  {
   "cell_type": "code",
   "execution_count": 30,
   "id": "16b536bd",
   "metadata": {
    "execution": {
     "iopub.execute_input": "2022-07-31T11:39:45.696205Z",
     "iopub.status.busy": "2022-07-31T11:39:45.695269Z",
     "iopub.status.idle": "2022-07-31T11:39:45.957796Z",
     "shell.execute_reply": "2022-07-31T11:39:45.956467Z"
    },
    "papermill": {
     "duration": 0.289025,
     "end_time": "2022-07-31T11:39:45.960563",
     "exception": false,
     "start_time": "2022-07-31T11:39:45.671538",
     "status": "completed"
    },
    "tags": []
   },
   "outputs": [
    {
     "data": {
      "image/png": "[encoded data removed]",
      "text/plain": [
       "<Figure size 1080x1080 with 1 Axes>"
      ]
     },
     "metadata": {
      "needs_background": "light"
     },
     "output_type": "display_data"
    }
   ],
   "source": [
    "# This code generates the numbers.\n",
    "X_grid = np.arange(min(x_train), max(x_train), 0.01)\n",
    "X_grid = X_grid.reshape((len(X_grid), 1))\n",
    "\n",
    "# Plot regression line and scatter\n",
    "plt.figure(figsize=(15,15))\n",
    "plt.scatter(x_train, y_train, color = 'blue')\n",
    "plt.plot(X_grid, DesTreeReg.predict(X_grid), color = 'black',linewidth = 3)\n",
    "plt.title('Example of Decision Regression Model')\n",
    "plt.xlabel('X')\n",
    "plt.ylabel('Y')\n",
    "plt.show()"
   ]
  },
  {
   "cell_type": "code",
   "execution_count": 31,
   "id": "b6ac1772",
   "metadata": {
    "execution": {
     "iopub.execute_input": "2022-07-31T11:39:46.011258Z",
     "iopub.status.busy": "2022-07-31T11:39:46.010321Z",
     "iopub.status.idle": "2022-07-31T11:39:46.019925Z",
     "shell.execute_reply": "2022-07-31T11:39:46.018584Z"
    },
    "papermill": {
     "duration": 0.038259,
     "end_time": "2022-07-31T11:39:46.024161",
     "exception": false,
     "start_time": "2022-07-31T11:39:45.985902",
     "status": "completed"
    },
    "tags": []
   },
   "outputs": [
    {
     "name": "stdout",
     "output_type": "stream",
     "text": [
      "The Mean Square Error(MSE) or j(thate) is:  10.80868185383003\n",
      "R square obtain for normal equation method is:  0.9871681731403525\n"
     ]
    }
   ],
   "source": [
    "# sklearn regression module\n",
    "X_pred = DesTreeReg.predict(x_test)\n",
    "\n",
    "#Evaluvation: MSE\n",
    "from sklearn.metrics import mean_squared_error\n",
    "Sk_mean = mean_squared_error(X_pred, y_test)\n",
    "\n",
    "# R_square\n",
    "R_square_sk = DesTreeReg.score(x_test,y_test)\n",
    "print(\"The Mean Square Error(MSE) or j(thate) is: \",Sk_mean)\n",
    "print(\"R square obtain for normal equation method is: \",R_square_sk)"
   ]
  },
  {
   "cell_type": "code",
   "execution_count": 32,
   "id": "acd2cdce",
   "metadata": {
    "execution": {
     "iopub.execute_input": "2022-07-31T11:39:46.073787Z",
     "iopub.status.busy": "2022-07-31T11:39:46.073077Z",
     "iopub.status.idle": "2022-07-31T11:39:46.080035Z",
     "shell.execute_reply": "2022-07-31T11:39:46.079091Z"
    },
    "papermill": {
     "duration": 0.034359,
     "end_time": "2022-07-31T11:39:46.082309",
     "exception": false,
     "start_time": "2022-07-31T11:39:46.047950",
     "status": "completed"
    },
    "tags": []
   },
   "outputs": [
    {
     "data": {
      "text/plain": [
       "array([43.99425993])"
      ]
     },
     "execution_count": 32,
     "metadata": {},
     "output_type": "execute_result"
    }
   ],
   "source": [
    "# I'm looking at what the desired value will return.\n",
    "DesTreeReg.predict([[45]])"
   ]
  },
  {
   "cell_type": "code",
   "execution_count": 33,
   "id": "9d2dba9a",
   "metadata": {
    "execution": {
     "iopub.execute_input": "2022-07-31T11:39:46.130814Z",
     "iopub.status.busy": "2022-07-31T11:39:46.130063Z",
     "iopub.status.idle": "2022-07-31T11:39:46.150753Z",
     "shell.execute_reply": "2022-07-31T11:39:46.149835Z"
    },
    "papermill": {
     "duration": 0.047673,
     "end_time": "2022-07-31T11:39:46.153485",
     "exception": false,
     "start_time": "2022-07-31T11:39:46.105812",
     "status": "completed"
    },
    "tags": []
   },
   "outputs": [
    {
     "name": "stdout",
     "output_type": "stream",
     "text": [
      "Resut: index(0) [0.] : [-0.06980565]\n",
      "Resut: index(1) [2.04081633] : [0.66712693]\n",
      "Resut: index(2) [4.08163265] : [5.22832367]\n",
      "Resut: index(3) [6.12244898] : [6.03309923]\n",
      "Resut: index(4) [8.16326531] : [8.3372265]\n",
      "Resut: index(5) [10.20408163] : [10.21781999]\n",
      "Resut: index(6) [12.24489796] : [12.0452178]\n",
      "Resut: index(7) [14.28571429] : [11.76598606]\n",
      "Resut: index(8) [16.32653061] : [15.51747963]\n",
      "Resut: index(9) [18.36734694] : [16.97236932]\n",
      "Resut: index(10) [20.40816327] : [20.66186837]\n",
      "Resut: index(11) [22.44897959] : [21.14445594]\n",
      "Resut: index(12) [24.48979592] : [22.2578069]\n",
      "Resut: index(13) [26.53061224] : [25.73216068]\n",
      "Resut: index(14) [28.57142857] : [28.8576974]\n",
      "Resut: index(15) [30.6122449] : [29.60549843]\n",
      "Resut: index(16) [32.65306122] : [34.35313444]\n",
      "Resut: index(17) [34.69387755] : [34.76282206]\n",
      "Resut: index(18) [36.73469388] : [37.43472891]\n",
      "Resut: index(19) [38.7755102] : [39.41941617]\n",
      "Resut: index(20) [40.81632653] : [41.06150075]\n",
      "Resut: index(21) [42.85714286] : [42.92018165]\n",
      "Resut: index(22) [44.89795918] : [43.99425993]\n",
      "Resut: index(23) [46.93877551] : [48.37390931]\n",
      "Resut: index(24) [48.97959184] : [49.23261519]\n",
      "Resut: index(25) [51.02040816] : [51.12230243]\n",
      "Resut: index(26) [53.06122449] : [53.4774693]\n",
      "Resut: index(27) [55.10204082] : [54.81829654]\n",
      "Resut: index(28) [57.14285714] : [57.85781176]\n",
      "Resut: index(29) [59.18367347] : [60.87860509]\n",
      "Resut: index(30) [61.2244898] : [61.44867801]\n",
      "Resut: index(31) [63.26530612] : [62.75400603]\n",
      "Resut: index(32) [65.30612245] : [63.24248342]\n",
      "Resut: index(33) [67.34693878] : [68.11563707]\n",
      "Resut: index(34) [69.3877551] : [66.95282934]\n",
      "Resut: index(35) [71.42857143] : [71.27481237]\n",
      "Resut: index(36) [73.46938776] : [71.62125271]\n",
      "Resut: index(37) [75.51020408] : [75.95670853]\n",
      "Resut: index(38) [77.55102041] : [80.52416741]\n",
      "Resut: index(39) [79.59183673] : [78.11498193]\n",
      "Resut: index(40) [81.63265306] : [87.69689625]\n",
      "Resut: index(41) [83.67346939] : [84.17265891]\n",
      "Resut: index(42) [85.71428571] : [86.63488589]\n",
      "Resut: index(43) [87.75510204] : [88.12999228]\n",
      "Resut: index(44) [89.79591837] : [90.69135921]\n",
      "Resut: index(45) [91.83673469] : [88.27257899]\n",
      "Resut: index(46) [93.87755102] : [94.16123751]\n",
      "Resut: index(47) [95.91836735] : [93.31571794]\n",
      "Resut: index(48) [97.95918367] : [97.10734828]\n",
      "Resut: index(49) [100.] : [100.55358104]\n"
     ]
    }
   ],
   "source": [
    "# In this part, I constitute a loop with 'for' and I look at the predic_npspace and its results.\n",
    "for i in range(0,len(predic_npspace_Des)):\n",
    "    DesRegPredictResult = DesTreeReg.predict([[predic_npspace_Des[i][0]]])\n",
    "    print(\"Resut: index({0}) {1} : {2}\".format(i, predic_npspace_Des[i], DesRegPredictResult))"
   ]
  },
  {
   "cell_type": "markdown",
   "id": "b011fcda",
   "metadata": {
    "papermill": {
     "duration": 0.023253,
     "end_time": "2022-07-31T11:39:46.199815",
     "exception": false,
     "start_time": "2022-07-31T11:39:46.176562",
     "status": "completed"
    },
    "tags": []
   },
   "source": [
    "## Random Forest Regression <a id = \"R3\"></a>"
   ]
  },
  {
   "cell_type": "markdown",
   "id": "f68a85d7",
   "metadata": {
    "papermill": {
     "duration": 0.022743,
     "end_time": "2022-07-31T11:39:46.245906",
     "exception": false,
     "start_time": "2022-07-31T11:39:46.223163",
     "status": "completed"
    },
    "tags": []
   },
   "source": [
    "**What is the Random Forest Regression?**\n",
    "<p>Random Forest Regression is a supervised learning algorithm that uses ensemble learning method for regression. Ensemble learning method is a technique that combines predictions from multiple machine learning algorithms to make a more accurate prediction than a single model.</p>\n",
    "In this part, I will apply the Random Forest Regression model of Machine Learning to the dataset and I will look result."
   ]
  },
  {
   "cell_type": "code",
   "execution_count": 34,
   "id": "04930038",
   "metadata": {
    "execution": {
     "iopub.execute_input": "2022-07-31T11:39:46.294991Z",
     "iopub.status.busy": "2022-07-31T11:39:46.294220Z",
     "iopub.status.idle": "2022-07-31T11:39:46.699554Z",
     "shell.execute_reply": "2022-07-31T11:39:46.698632Z"
    },
    "papermill": {
     "duration": 0.432996,
     "end_time": "2022-07-31T11:39:46.701964",
     "exception": false,
     "start_time": "2022-07-31T11:39:46.268968",
     "status": "completed"
    },
    "tags": []
   },
   "outputs": [
    {
     "name": "stderr",
     "output_type": "stream",
     "text": [
      "/opt/conda/lib/python3.7/site-packages/ipykernel_launcher.py:5: DataConversionWarning: A column-vector y was passed when a 1d array was expected. Please change the shape of y to (n_samples,), for example using ravel().\n",
      "  \"\"\"\n"
     ]
    },
    {
     "data": {
      "image/png": "[encoded data removed]",
      "text/plain": [
       "<Figure size 720x720 with 1 Axes>"
      ]
     },
     "metadata": {
      "needs_background": "light"
     },
     "output_type": "display_data"
    }
   ],
   "source": [
    "# Import RandomForestRegressor\n",
    "RanReg = RandomForestRegressor(n_estimators= 100, random_state=42)\n",
    "\n",
    "# Training with x values and y values\n",
    "RanReg.fit(x_train, y_train)\n",
    "\n",
    "# Predict_space\n",
    "# We generate numbers between the smallest and largest numbers in x data.\n",
    "predic_npspace_Ran = np.linspace(min(x_test), max(x_test)).reshape(-1,1)\n",
    "\n",
    "#Predict\n",
    "# We make predictions with the random numbers we produce.\n",
    "predicted_Ran = RanReg.predict(predic_npspace_Ran)\n",
    "\n",
    "\n",
    "# Plot regression line and scatter\n",
    "plt.figure(figsize = (10,10))\n",
    "plt.plot(predic_npspace_Ran, predicted_Ran, color = \"black\", linewidth = 3)\n",
    "plt.scatter(x = x_train, y = y_train)\n",
    "plt.xlabel(\"X_train\")\n",
    "plt.ylabel(\"Y_train\")\n",
    "plt.show()"
   ]
  },
  {
   "cell_type": "code",
   "execution_count": 35,
   "id": "a36e0597",
   "metadata": {
    "execution": {
     "iopub.execute_input": "2022-07-31T11:39:46.752203Z",
     "iopub.status.busy": "2022-07-31T11:39:46.751564Z",
     "iopub.status.idle": "2022-07-31T11:39:46.806023Z",
     "shell.execute_reply": "2022-07-31T11:39:46.804672Z"
    },
    "papermill": {
     "duration": 0.083282,
     "end_time": "2022-07-31T11:39:46.809362",
     "exception": false,
     "start_time": "2022-07-31T11:39:46.726080",
     "status": "completed"
    },
    "tags": []
   },
   "outputs": [
    {
     "name": "stdout",
     "output_type": "stream",
     "text": [
      "The Mean Square Error(MSE) or j(thate) is:  10.785591536566352\n",
      "R square obtain for normal equation method is:  0.9871955854517952\n",
      "Evaluate Regression Models is:  0.9981961711998867\n"
     ]
    }
   ],
   "source": [
    "# sklearn regression module\n",
    "X_pred = RanReg.predict(x_test)\n",
    "\n",
    "#Evaluvation: MSE\n",
    "from sklearn.metrics import mean_squared_error\n",
    "Sk_mean = mean_squared_error(X_pred, y_test)\n",
    "\n",
    "# R_square\n",
    "y_pred = RanReg.predict(y_train)\n",
    "\n",
    "# Evaluvation Regression Model\n",
    "from sklearn.metrics import r2_score\n",
    "r2_score_ran = r2_score(y_train,y_pred) \n",
    "\n",
    "R_square_sk = RanReg.score(x_test,y_test)\n",
    "print(\"The Mean Square Error(MSE) or j(thate) is: \",Sk_mean)\n",
    "print(\"R square obtain for normal equation method is: \",R_square_sk)\n",
    "print(\"Evaluate Regression Models is: \", r2_score_ran)"
   ]
  },
  {
   "cell_type": "code",
   "execution_count": 36,
   "id": "74899cf6",
   "metadata": {
    "execution": {
     "iopub.execute_input": "2022-07-31T11:39:46.860441Z",
     "iopub.status.busy": "2022-07-31T11:39:46.859106Z",
     "iopub.status.idle": "2022-07-31T11:39:46.878059Z",
     "shell.execute_reply": "2022-07-31T11:39:46.876743Z"
    },
    "papermill": {
     "duration": 0.046521,
     "end_time": "2022-07-31T11:39:46.880457",
     "exception": false,
     "start_time": "2022-07-31T11:39:46.833936",
     "status": "completed"
    },
    "tags": []
   },
   "outputs": [
    {
     "data": {
      "text/plain": [
       "array([43.94267404])"
      ]
     },
     "execution_count": 36,
     "metadata": {},
     "output_type": "execute_result"
    }
   ],
   "source": [
    "# I'm looking at what the desired value will return.\n",
    "RanReg.predict([[45]])"
   ]
  },
  {
   "cell_type": "code",
   "execution_count": 37,
   "id": "23f0a88d",
   "metadata": {
    "execution": {
     "iopub.execute_input": "2022-07-31T11:39:46.931802Z",
     "iopub.status.busy": "2022-07-31T11:39:46.930718Z",
     "iopub.status.idle": "2022-07-31T11:39:46.952596Z",
     "shell.execute_reply": "2022-07-31T11:39:46.951448Z"
    },
    "papermill": {
     "duration": 0.050817,
     "end_time": "2022-07-31T11:39:46.955406",
     "exception": false,
     "start_time": "2022-07-31T11:39:46.904589",
     "status": "completed"
    },
    "tags": []
   },
   "outputs": [
    {
     "name": "stdout",
     "output_type": "stream",
     "text": [
      "Resut: index(0) [0.] : [-0.06980565]\n",
      "Resut: index(1) [2.04081633] : [0.66712693]\n",
      "Resut: index(2) [4.08163265] : [5.22832367]\n",
      "Resut: index(3) [6.12244898] : [6.03309923]\n",
      "Resut: index(4) [8.16326531] : [8.3372265]\n",
      "Resut: index(5) [10.20408163] : [10.21781999]\n",
      "Resut: index(6) [12.24489796] : [12.0452178]\n",
      "Resut: index(7) [14.28571429] : [11.76598606]\n",
      "Resut: index(8) [16.32653061] : [15.51747963]\n",
      "Resut: index(9) [18.36734694] : [16.97236932]\n",
      "Resut: index(10) [20.40816327] : [20.66186837]\n",
      "Resut: index(11) [22.44897959] : [21.14445594]\n",
      "Resut: index(12) [24.48979592] : [22.2578069]\n",
      "Resut: index(13) [26.53061224] : [25.73216068]\n",
      "Resut: index(14) [28.57142857] : [28.8576974]\n",
      "Resut: index(15) [30.6122449] : [29.60549843]\n",
      "Resut: index(16) [32.65306122] : [34.35313444]\n",
      "Resut: index(17) [34.69387755] : [34.76282206]\n",
      "Resut: index(18) [36.73469388] : [37.43472891]\n",
      "Resut: index(19) [38.7755102] : [39.41941617]\n",
      "Resut: index(20) [40.81632653] : [41.06150075]\n",
      "Resut: index(21) [42.85714286] : [42.92018165]\n",
      "Resut: index(22) [44.89795918] : [43.99425993]\n",
      "Resut: index(23) [46.93877551] : [48.37390931]\n",
      "Resut: index(24) [48.97959184] : [49.23261519]\n",
      "Resut: index(25) [51.02040816] : [51.12230243]\n",
      "Resut: index(26) [53.06122449] : [53.4774693]\n",
      "Resut: index(27) [55.10204082] : [54.81829654]\n",
      "Resut: index(28) [57.14285714] : [57.85781176]\n",
      "Resut: index(29) [59.18367347] : [60.87860509]\n",
      "Resut: index(30) [61.2244898] : [61.44867801]\n",
      "Resut: index(31) [63.26530612] : [62.75400603]\n",
      "Resut: index(32) [65.30612245] : [63.24248342]\n",
      "Resut: index(33) [67.34693878] : [68.11563707]\n",
      "Resut: index(34) [69.3877551] : [66.95282934]\n",
      "Resut: index(35) [71.42857143] : [71.27481237]\n",
      "Resut: index(36) [73.46938776] : [71.62125271]\n",
      "Resut: index(37) [75.51020408] : [75.95670853]\n",
      "Resut: index(38) [77.55102041] : [80.52416741]\n",
      "Resut: index(39) [79.59183673] : [78.11498193]\n",
      "Resut: index(40) [81.63265306] : [87.69689625]\n",
      "Resut: index(41) [83.67346939] : [84.17265891]\n",
      "Resut: index(42) [85.71428571] : [86.63488589]\n",
      "Resut: index(43) [87.75510204] : [88.12999228]\n",
      "Resut: index(44) [89.79591837] : [90.69135921]\n",
      "Resut: index(45) [91.83673469] : [88.27257899]\n",
      "Resut: index(46) [93.87755102] : [94.16123751]\n",
      "Resut: index(47) [95.91836735] : [93.31571794]\n",
      "Resut: index(48) [97.95918367] : [97.10734828]\n",
      "Resut: index(49) [100.] : [100.55358104]\n"
     ]
    }
   ],
   "source": [
    "# In this part, I constitute a loop with 'for' and I look at the predic_npspace and its results.\n",
    "for i in range(0,len(predic_npspace_Ran)):\n",
    "    RanRegPredictResult = DesTreeReg.predict([[predic_npspace_Ran[i][0]]])\n",
    "    print(\"Resut: index({0}) {1} : {2}\".format(i, predic_npspace_Ran[i], RanRegPredictResult))"
   ]
  },
  {
   "cell_type": "markdown",
   "id": "4af5c1e0",
   "metadata": {
    "papermill": {
     "duration": 0.024221,
     "end_time": "2022-07-31T11:39:47.004732",
     "exception": false,
     "start_time": "2022-07-31T11:39:46.980511",
     "status": "completed"
    },
    "tags": []
   },
   "source": [
    "## Evaluation Regression Model <a id = \"R4\"></a>"
   ]
  },
  {
   "cell_type": "markdown",
   "id": "9e675dc6",
   "metadata": {
    "papermill": {
     "duration": 0.024012,
     "end_time": "2022-07-31T11:39:47.053078",
     "exception": false,
     "start_time": "2022-07-31T11:39:47.029066",
     "status": "completed"
    },
    "tags": []
   },
   "source": [
    "**What is the Evaluation Regression Model?**\n",
    "<p>Evaluation Regression comprises metrics of calculation error. These metrics are used to calculate calculation error. I used metrics of one in the random forest regression part and Below I specified these metrics. </p>\n",
    "\n",
    "Metric 1:<br>\n",
    "from sklearn.metrics import **-------** <br>\n",
    "In the code, we use the models in the metrics section of the sklearn library to evaluate how well we train our model. <br>\n",
    "\n",
    "example: <br>\n",
    "\n",
    "from sklearn.metrics import **mean_squared_error** <br>\n",
    "Sk_mean = mean_squared_error(X_pred, y_test)</p>\n",
    "\n",
    "from sklearn.metrics import **r2_score** <br>\n",
    "r2_score_ran = r2_score(y_train,y_pred) </p>\n",
    "\n",
    "\n"
   ]
  },
  {
   "cell_type": "markdown",
   "id": "af818d15",
   "metadata": {
    "papermill": {
     "duration": 0.025381,
     "end_time": "2022-07-31T11:39:47.102801",
     "exception": false,
     "start_time": "2022-07-31T11:39:47.077420",
     "status": "completed"
    },
    "tags": []
   },
   "source": [
    "## Polynomial  Linear Regression <a id = \"R5\"></a>"
   ]
  },
  {
   "cell_type": "markdown",
   "id": "6656322e",
   "metadata": {
    "papermill": {
     "duration": 0.024123,
     "end_time": "2022-07-31T11:39:47.151364",
     "exception": false,
     "start_time": "2022-07-31T11:39:47.127241",
     "status": "completed"
    },
    "tags": []
   },
   "source": [
    "**What is the Polynomial Linear Regression?** <br>\n",
    "Polynomial Regression is a form of Linear regression known as a special case of Multiple linear regression which estimates the relationship as an nth degree polynomial.<br>\n",
    "In this part, I will apply the Polynomial  Linear Regression model of Machine Learning to the my dataset and I will look result. I constituted a dataset for this model and I used it. I didn't use this dataset because This dataset didn't suit this model. I didn't use this dataset because This dataset didn't suit Polynomial  Linear Regression. You will see on the graph that it is not suitable."
   ]
  },
  {
   "cell_type": "code",
   "execution_count": 38,
   "id": "c5dc21e4",
   "metadata": {
    "execution": {
     "iopub.execute_input": "2022-07-31T11:39:47.201807Z",
     "iopub.status.busy": "2022-07-31T11:39:47.201429Z",
     "iopub.status.idle": "2022-07-31T11:39:47.215332Z",
     "shell.execute_reply": "2022-07-31T11:39:47.214382Z"
    },
    "papermill": {
     "duration": 0.042142,
     "end_time": "2022-07-31T11:39:47.217728",
     "exception": false,
     "start_time": "2022-07-31T11:39:47.175586",
     "status": "completed"
    },
    "tags": []
   },
   "outputs": [
    {
     "data": {
      "text/html": [
       "<div>\n",
       "<style scoped>\n",
       "    .dataframe tbody tr th:only-of-type {\n",
       "        vertical-align: middle;\n",
       "    }\n",
       "\n",
       "    .dataframe tbody tr th {\n",
       "        vertical-align: top;\n",
       "    }\n",
       "\n",
       "    .dataframe thead th {\n",
       "        text-align: right;\n",
       "    }\n",
       "</style>\n",
       "<table border=\"1\" class=\"dataframe\">\n",
       "  <thead>\n",
       "    <tr style=\"text-align: right;\">\n",
       "      <th></th>\n",
       "      <th>Car_price</th>\n",
       "      <th>Car_Max_Speed</th>\n",
       "    </tr>\n",
       "  </thead>\n",
       "  <tbody>\n",
       "    <tr>\n",
       "      <th>0</th>\n",
       "      <td>60</td>\n",
       "      <td>180</td>\n",
       "    </tr>\n",
       "    <tr>\n",
       "      <th>1</th>\n",
       "      <td>70</td>\n",
       "      <td>180</td>\n",
       "    </tr>\n",
       "    <tr>\n",
       "      <th>2</th>\n",
       "      <td>80</td>\n",
       "      <td>200</td>\n",
       "    </tr>\n",
       "    <tr>\n",
       "      <th>3</th>\n",
       "      <td>100</td>\n",
       "      <td>200</td>\n",
       "    </tr>\n",
       "    <tr>\n",
       "      <th>4</th>\n",
       "      <td>120</td>\n",
       "      <td>200</td>\n",
       "    </tr>\n",
       "    <tr>\n",
       "      <th>5</th>\n",
       "      <td>150</td>\n",
       "      <td>220</td>\n",
       "    </tr>\n",
       "    <tr>\n",
       "      <th>6</th>\n",
       "      <td>200</td>\n",
       "      <td>240</td>\n",
       "    </tr>\n",
       "    <tr>\n",
       "      <th>7</th>\n",
       "      <td>250</td>\n",
       "      <td>240</td>\n",
       "    </tr>\n",
       "    <tr>\n",
       "      <th>8</th>\n",
       "      <td>300</td>\n",
       "      <td>300</td>\n",
       "    </tr>\n",
       "    <tr>\n",
       "      <th>9</th>\n",
       "      <td>400</td>\n",
       "      <td>350</td>\n",
       "    </tr>\n",
       "    <tr>\n",
       "      <th>10</th>\n",
       "      <td>500</td>\n",
       "      <td>350</td>\n",
       "    </tr>\n",
       "    <tr>\n",
       "      <th>11</th>\n",
       "      <td>750</td>\n",
       "      <td>360</td>\n",
       "    </tr>\n",
       "    <tr>\n",
       "      <th>12</th>\n",
       "      <td>1000</td>\n",
       "      <td>365</td>\n",
       "    </tr>\n",
       "    <tr>\n",
       "      <th>13</th>\n",
       "      <td>2000</td>\n",
       "      <td>365</td>\n",
       "    </tr>\n",
       "    <tr>\n",
       "      <th>14</th>\n",
       "      <td>3000</td>\n",
       "      <td>365</td>\n",
       "    </tr>\n",
       "  </tbody>\n",
       "</table>\n",
       "</div>"
      ],
      "text/plain": [
       "    Car_price  Car_Max_Speed\n",
       "0          60            180\n",
       "1          70            180\n",
       "2          80            200\n",
       "3         100            200\n",
       "4         120            200\n",
       "5         150            220\n",
       "6         200            240\n",
       "7         250            240\n",
       "8         300            300\n",
       "9         400            350\n",
       "10        500            350\n",
       "11        750            360\n",
       "12       1000            365\n",
       "13       2000            365\n",
       "14       3000            365"
      ]
     },
     "execution_count": 38,
     "metadata": {},
     "output_type": "execute_result"
    }
   ],
   "source": [
    "# Generate Data\n",
    "# This is data values\n",
    "Car_price = [60,70,80,100,120,150,200,250,300,400,500,750,1000,2000,3000]\n",
    "Car_Max_Speed = [180,180,200,200,200,220,240,240,300,350,350,360,365,365,365]\n",
    "\n",
    "# I translate the array from the list.\n",
    "Car_Price = np.array(Car_price)\n",
    "Car_Max_Speed = np.array(Car_Max_Speed)\n",
    "\n",
    "# I constitute the data.\n",
    "Data = {'Car_price': Car_Price, 'Car_Max_Speed': Car_Max_Speed}\n",
    "Data = pd.DataFrame(Data)\n",
    "# I look values of data.\n",
    "Data"
   ]
  },
  {
   "cell_type": "code",
   "execution_count": 39,
   "id": "f20a7243",
   "metadata": {
    "execution": {
     "iopub.execute_input": "2022-07-31T11:39:47.269924Z",
     "iopub.status.busy": "2022-07-31T11:39:47.269299Z",
     "iopub.status.idle": "2022-07-31T11:39:47.274358Z",
     "shell.execute_reply": "2022-07-31T11:39:47.273520Z"
    },
    "papermill": {
     "duration": 0.034066,
     "end_time": "2022-07-31T11:39:47.276641",
     "exception": false,
     "start_time": "2022-07-31T11:39:47.242575",
     "status": "completed"
    },
    "tags": []
   },
   "outputs": [],
   "source": [
    "# I specify to values of test and train.\n",
    "x_train_newData = Data.Car_price.values.reshape(-1,1)\n",
    "y_train_newData = Data.Car_Max_Speed.values.reshape(-1,1)"
   ]
  },
  {
   "cell_type": "code",
   "execution_count": 40,
   "id": "ed4bf80b",
   "metadata": {
    "execution": {
     "iopub.execute_input": "2022-07-31T11:39:47.328799Z",
     "iopub.status.busy": "2022-07-31T11:39:47.328192Z",
     "iopub.status.idle": "2022-07-31T11:39:47.519287Z",
     "shell.execute_reply": "2022-07-31T11:39:47.518093Z"
    },
    "papermill": {
     "duration": 0.219915,
     "end_time": "2022-07-31T11:39:47.521751",
     "exception": false,
     "start_time": "2022-07-31T11:39:47.301836",
     "status": "completed"
    },
    "tags": []
   },
   "outputs": [
    {
     "data": {
      "image/png": "[encoded data removed]",
      "text/plain": [
       "<Figure size 432x288 with 1 Axes>"
      ]
     },
     "metadata": {
      "needs_background": "light"
     },
     "output_type": "display_data"
    }
   ],
   "source": [
    "# Training with x values and y values. I used the Linear Regression model.\n",
    "LinReg.fit(x_train_newData, y_train_newData)\n",
    "\n",
    "# Predict with x_train_newData of value\n",
    "y_head = LinReg.predict(x_train_newData)\n",
    "\n",
    "# Plot regression line and scatter\n",
    "plt.scatter(x_train_newData, y_train_newData)\n",
    "plt.plot(x_train_newData, y_head, color = \"red\")\n",
    "plt.ylabel(\"araba_max_hiz\")\n",
    "plt.xlabel(\"araba_fiyat\")\n",
    "plt.show()"
   ]
  },
  {
   "cell_type": "code",
   "execution_count": 41,
   "id": "dabe392f",
   "metadata": {
    "execution": {
     "iopub.execute_input": "2022-07-31T11:39:47.574017Z",
     "iopub.status.busy": "2022-07-31T11:39:47.573566Z",
     "iopub.status.idle": "2022-07-31T11:39:47.794761Z",
     "shell.execute_reply": "2022-07-31T11:39:47.793391Z"
    },
    "papermill": {
     "duration": 0.250559,
     "end_time": "2022-07-31T11:39:47.797849",
     "exception": false,
     "start_time": "2022-07-31T11:39:47.547290",
     "status": "completed"
    },
    "tags": []
   },
   "outputs": [
    {
     "data": {
      "image/png": "[encoded data removed]",
      "text/plain": [
       "<Figure size 432x288 with 1 Axes>"
      ]
     },
     "metadata": {
      "needs_background": "light"
     },
     "output_type": "display_data"
    }
   ],
   "source": [
    "# Import PolynomialFeatures\n",
    "pf = PolynomialFeatures(degree=4)\n",
    "\n",
    "# transforms our numpy array x from a 1D array to a 2D array \n",
    "x_pol = pf.fit_transform(x_train_newData)\n",
    "\n",
    "# Import LinearRegression\n",
    "linear_reg2 = LinearRegression()\n",
    "\n",
    "# Training with x_pol values and y_train_newData values\n",
    "linear_reg2.fit(x_pol, y_train_newData)\n",
    "\n",
    "# Predict with x_pol values\n",
    "y_head2 = linear_reg2.predict(x_pol)\n",
    "\n",
    "# Plot regression line and scatter\n",
    "plt.scatter(x_train_newData, y_train_newData)\n",
    "plt.plot(x_train_newData, y_head2, color = \"green\", label = \"poly\")\n",
    "plt.legend()\n",
    "plt.show()"
   ]
  },
  {
   "cell_type": "markdown",
   "id": "fbbf5a0c",
   "metadata": {
    "papermill": {
     "duration": 0.025291,
     "end_time": "2022-07-31T11:39:47.848903",
     "exception": false,
     "start_time": "2022-07-31T11:39:47.823612",
     "status": "completed"
    },
    "tags": []
   },
   "source": [
    "# CONCLUSION\n",
    "I am learning the English language newly if I make an errata please advise me in the comment. Thank you for reading my notebook, your votes and your comments. I will be waiting for your advice."
   ]
  }
 ],
 "metadata": {
  "kernelspec": {
   "display_name": "Python 3",
   "language": "python",
   "name": "python3"
  },
  "language_info": {
   "codemirror_mode": {
    "name": "ipython",
    "version": 3
   },
   "file_extension": ".py",
   "mimetype": "text/x-python",
   "name": "python",
   "nbconvert_exporter": "python",
   "pygments_lexer": "ipython3",
   "version": "3.7.12"
  },
  "papermill": {
   "default_parameters": {},
   "duration": 21.023061,
   "end_time": "2022-07-31T11:39:48.698040",
   "environment_variables": {},
   "exception": null,
   "input_path": "__notebook__.ipynb",
   "output_path": "__notebook__.ipynb",
   "parameters": {},
   "start_time": "2022-07-31T11:39:27.674979",
   "version": "2.3.4"
  }
 },
 "nbformat": 4,
 "nbformat_minor": 5
}
